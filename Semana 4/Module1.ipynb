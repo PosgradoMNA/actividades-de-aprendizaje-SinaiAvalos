{
  "nbformat": 4,
  "nbformat_minor": 0,
  "metadata": {
    "colab": {
      "name": "assignment01.ipynb",
      "provenance": [],
      "include_colab_link": true
    },
    "kernelspec": {
      "name": "python3",
      "display_name": "Python 3"
    },
    "language_info": {
      "name": "python"
    }
  },
  "cells": [
    {
      "cell_type": "markdown",
      "metadata": {
        "id": "view-in-github",
        "colab_type": "text"
      },
      "source": [
        "<a href=\"https://colab.research.google.com/github/PosgradoMNA/actividades-de-aprendizaje-SinaiAvalos/blob/main/Semana%204/Module1.ipynb\" target=\"_parent\"><img src=\"https://colab.research.google.com/assets/colab-badge.svg\" alt=\"Open In Colab\"/></a>"
      ]
    },
    {
      "cell_type": "markdown",
      "source": [
        "*Sinaí Avalos Rivera*\n",
        "\n",
        "\n",
        "# **Module 1 - Introduction**\n",
        "\n",
        "** THE PROBLEM**\n",
        "\n",
        "\n",
        "** Why Data Analysis?\n",
        "\n",
        "\n",
        "Data analysis, and in essence, data science, helps us unlock the information and insights\n",
        "from raw data, to answer our questions.\n",
        "\n",
        "So data analysis plays an important role by helping us to discover useful information\n",
        "from the data, answer questions, and even predict the future or the unknown.\n",
        "\n",
        "\n",
        "\n",
        "**Understanding the Data**\n",
        "\n",
        "The value that we want to predict from the dataset, and the predictors should be all the other variables listed.\n",
        "\n",
        "\n",
        "** Python Packages for Data Science**\n",
        "\n",
        "\n",
        "\n"
      ],
      "metadata": {
        "id": "2k1NqtYGWthI"
      }
    },
    {
      "cell_type": "markdown",
      "source": [],
      "metadata": {
        "id": "g_aTqtqLXAGs"
      }
    },
    {
      "cell_type": "code",
      "source": [],
      "metadata": {
        "id": "mxM_WppZPMFx"
      },
      "execution_count": null,
      "outputs": []
    }
  ]
}