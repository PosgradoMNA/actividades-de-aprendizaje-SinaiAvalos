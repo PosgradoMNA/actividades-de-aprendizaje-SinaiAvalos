{
  "nbformat": 4,
  "nbformat_minor": 0,
  "metadata": {
    "colab": {
      "name": "assignment01.ipynb",
      "provenance": [],
      "include_colab_link": true
    },
    "kernelspec": {
      "name": "python3",
      "display_name": "Python 3"
    },
    "language_info": {
      "name": "python"
    }
  },
  "cells": [
    {
      "cell_type": "markdown",
      "metadata": {
        "id": "view-in-github",
        "colab_type": "text"
      },
      "source": [
        "<a href=\"https://colab.research.google.com/github/PosgradoMNA/actividades-de-aprendizaje-SinaiAvalos/blob/main/Semana%202%20-%20Actividad%201%3A%20Python%20for%20Data%20Science%20(IBM).ipynb\" target=\"_parent\"><img src=\"https://colab.research.google.com/assets/colab-badge.svg\" alt=\"Open In Colab\"/></a>"
      ]
    },
    {
      "cell_type": "markdown",
      "source": [
        "*Sinai Avalos Rivera A01730466*\n"
      ],
      "metadata": {
        "id": "UaGwd1lgLVVH"
      }
    },
    {
      "cell_type": "markdown",
      "source": [
        "#**Module 4 - Working with Data in Python**"
      ],
      "metadata": {
        "id": "wvE1pyQtLxRZ"
      }
    },
    {
      "cell_type": "markdown",
      "source": [
        "**READING FILES WITH OPEN**\n",
        "\n"
      ],
      "metadata": {
        "id": "muKr9dmNL0ZI"
      }
    },
    {
      "cell_type": "markdown",
      "source": [
        "OPEN FUNCTION to create a file object and obtain the data from a txt file. \n",
        "\n",
        "\n",
        "\n",
        "```\n",
        "# File1 = open(\"/resources/data/Example2.txt\",\"w\")\n",
        "```\n",
        "\n",
        "The fist argument is the file paht.\n",
        "\n",
        "The second parameter is the mode: write (w), read (r) and appending (a).\n",
        "\n",
        "File objetc can be used to obtain info about the file. \n",
        "\n",
        "Atributes:\n",
        ".name -> obtain a string with the name of the file\n",
        "\n",
        ".mode -> to see what mode the object is in (r/w/a)\n",
        "\n",
        ".close -> close the file\n",
        "\n",
        "\n",
        "With statement: Open and closes automatically the file\n",
        "\n",
        "\n",
        "\n",
        "```\n",
        "# with open(\"Example1.txt\",\"r\") as File1:\n",
        "  file_stuff=File1.read()\n",
        "\n",
        "  print(file_stuff)\n",
        "\n",
        "print(File1.closed)\n",
        "print(file_stuff)\n",
        "```\n",
        "\n",
        ".read -> stores the values of the file in the corresponding variable as a string\n",
        "\n",
        "\n",
        ".readlines -> output every line as an element in a list \n",
        "\n",
        ".readline -> to read the first line of the file\n",
        "\n",
        "Use a loop to print out each line individually:\n",
        "\n",
        "\n",
        "\n",
        "```\n",
        "# for line in File1:\n",
        "  print(line)\n",
        "\n",
        "```\n",
        "\n",
        ".readlines(4) -> read the first 4 characters\n",
        "\n",
        "\n",
        "\n"
      ],
      "metadata": {
        "id": "wKmm7S1lLe4O"
      }
    },
    {
      "cell_type": "markdown",
      "source": [
        "**WRITING FILES WITH OPEN**"
      ],
      "metadata": {
        "id": "vlWS2u60kO7M"
      }
    },
    {
      "cell_type": "markdown",
      "source": [
        "Use open function to get a file object, to create a text file\n",
        "\n",
        "Use method write to write data to that file\n",
        "\n",
        "\n",
        "\n",
        "```\n",
        "# File1 = open(\"/resources/data/Example2.txt\",\"w\")\n",
        "\n",
        "with open(\"/resources/data/Example2.txt\",\"w\") as File1:\n",
        "  File1.write(\"This is line A\")\n",
        "```\n",
        "\n",
        "```\n",
        "# File1 = open(\"/resources/data/Example2.txt\",\"w\")\n",
        "\n",
        "Lines=[\"This is A\\n\",\"This is B\\n\",\"This is C\\n\"]\n",
        "with open(\"/resources/data/Example2.txt\",\"w\") as File1:\n",
        "  for line in Lines:\n",
        "    File1.write(line)\n",
        "```\n",
        "\n",
        "\n",
        "Appended mode: Will no create a new file, uses the existing file, add the line at the end and closes the file\n",
        "\n",
        "```\n",
        "# with open(\"/resources/data/Example2.txt\",\"a\") as File1:\n",
        "  File1.write(\"This is line C\")\n",
        "```\n",
        "\n",
        "Copy one file to a new file:\n",
        "\n",
        "\n",
        "\n",
        "```\n",
        "# with open(\"Example.txt\",\"r\") as readfile:\n",
        "    with open(\"Example3.txt\",\"w\") as writefile:\n",
        "      for line in readfiles:\n",
        "          writefile.write(line)\n",
        "```\n"
      ],
      "metadata": {
        "id": "ypY8H7y-ko6l"
      }
    },
    {
      "cell_type": "markdown",
      "source": [
        "**LOADING DATA WITH PANDAS**"
      ],
      "metadata": {
        "id": "diFlUh_WmuLs"
      }
    },
    {
      "cell_type": "markdown",
      "source": [
        "Pandas: a popular library for data analysis."
      ],
      "metadata": {
        "id": "tSoKh_wpmyCO"
      }
    },
    {
      "cell_type": "code",
      "source": [
        "#import library for data analysis:\n",
        "\n",
        "import pandas"
      ],
      "metadata": {
        "id": "phgsvGH2nD6J"
      },
      "execution_count": 1,
      "outputs": []
    },
    {
      "cell_type": "markdown",
      "source": [
        "Load a csv file using the pandas built-in function .read_csv\n",
        "\n",
        "\n",
        "```\n",
        "# import pandas as pd\n",
        "\n",
        "csv_path='file1.csv'\n",
        "df=pd.read_csv(csv_path)\n",
        "```\n",
        "\n",
        "pd set as an abbreviation of pandas"
      ],
      "metadata": {
        "id": "09-fIQZRnO46"
      }
    },
    {
      "cell_type": "markdown",
      "source": [
        "**Dataframes:**\n",
        "\n",
        "A dataframe is comprised of rows and columns.\n",
        "\n",
        "Process to go from a csv file to a data frame:\n",
        "\n",
        "\n",
        "\n",
        "```\n",
        "# csv_path='file1.csv'\n",
        "df=pd.read_csv(csv_path)\n",
        "df.head()\n",
        "```\n",
        "\n",
        ".head() -> to examine the first 5 rows of a dataframe\n"
      ],
      "metadata": {
        "id": "JeNZbUdZnSw1"
      }
    },
    {
      "cell_type": "markdown",
      "source": [
        "Loading a excel file:\n",
        "\n",
        "\n",
        "```\n",
        "# xlsx_path='file1.xlsx'\n",
        "df=pd.read_excel(xlsx_path)\n",
        "df.head()\n",
        "```"
      ],
      "metadata": {
        "id": "RhRQseM1owvy"
      }
    },
    {
      "cell_type": "markdown",
      "source": [
        "Create a data frame out of a dictionary.\n",
        "\n",
        "The keys correspond to the column labels. The values are lists corresponding to the rows.\n",
        "\n",
        ".DataFrame -> cast the dictionary to a dataframe\n",
        "\n",
        "\n",
        "\n",
        "\n",
        "```\n",
        "# songs = {'Album': {'Thriller','Back in Black','The Dark side','The Bodyguard','Bat Out of Hell'],'Releaded':[1982,1980,1973,1992,1977],'Lenght':['00:42:19',00:42:11','00:42:15','00:42:31','00:42:19']}\n",
        "\n",
        "songs_frame = pd.DataFrame(songs)\n",
        "```\n"
      ],
      "metadata": {
        "id": "XzFBSpH2pAlc"
      }
    },
    {
      "cell_type": "markdown",
      "source": [
        "We can create a new dataframe consisting of one column.\n",
        "\n",
        "\n",
        "```\n",
        "# x = df[ ['Lenght'] ]\n",
        "```\n",
        "\n",
        "Multiple columns: \n",
        "\n",
        "```\n",
        "# y = df[ ['Artist','Lenght','Genre'] ]\n",
        "```\n"
      ],
      "metadata": {
        "id": "JFoeEZ7FqMna"
      }
    },
    {
      "cell_type": "markdown",
      "source": [
        "One way to access unique elements is the ix\n",
        "method:\n",
        "\n",
        "df.ix[0,0] -> access the 1st row and first column\n",
        "\n",
        "df.ix[1,0] -> access the 1st row and first column\n",
        "\n",
        "df.ix[1,2] -> access the 2nd row, 3rd column\n",
        "\n",
        "\n",
        "df.ix[0,'Artist'] -> access the 1st row and column Artist"
      ],
      "metadata": {
        "id": "8SEWIu0rqnYz"
      }
    },
    {
      "cell_type": "markdown",
      "source": [
        "Slice dataframes and assign the values to a new dataframe:\n",
        "\n",
        "Assign the first two rows and the first three columns to the variable z:\n",
        "\n",
        "`z=df.ix[0:2,0:3]`\n",
        "\n",
        "\n",
        "Slice dataframes and assign the values to a new dataframe using the column names:\n",
        "\n",
        "`z=df.ix[0:2, 'Artist':'Released']`"
      ],
      "metadata": {
        "id": "PBQD80xYrtf2"
      }
    },
    {
      "cell_type": "markdown",
      "source": [
        "**WORKING WITH AND SAVING DATA WITH PANDAS**\n",
        "\n"
      ],
      "metadata": {
        "id": "2ZUjm5Boswf9"
      }
    },
    {
      "cell_type": "markdown",
      "source": [
        "When we have a dataframe we can work with the data and save the results in other formats.\n",
        "\n",
        "Pandas has the method unique to determine the unique elements in a column of a dataframe:\n",
        "\n",
        "\n",
        "\n",
        "```\n",
        "# df['Released'].unique()\n",
        "```\n",
        "\n",
        "\n",
        "Create a new database consisting of songs released from 1980's:\n",
        "\n",
        "```\n",
        "# df['Released']>=1980\n",
        "```\n",
        "\n",
        "Select the specified columns in one line, we simply use the dataframe’s names:\n",
        "\n",
        "```\n",
        "# df1=df[df['Released']>=1980]\n",
        "```\n",
        "\n",
        "\n",
        "Save as CCV:\n",
        "\n",
        "df1.to_csv('new_songs.csv')\n"
      ],
      "metadata": {
        "id": "S6Mi18z7s2Qp"
      }
    }
  ]
}