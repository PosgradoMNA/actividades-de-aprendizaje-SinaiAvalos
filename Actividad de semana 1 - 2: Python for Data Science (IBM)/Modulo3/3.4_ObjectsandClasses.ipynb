{
  "nbformat": 4,
  "nbformat_minor": 0,
  "metadata": {
    "colab": {
      "name": "assignment01.ipynb",
      "provenance": [],
      "include_colab_link": true
    },
    "kernelspec": {
      "name": "python3",
      "display_name": "Python 3"
    },
    "language_info": {
      "name": "python"
    }
  },
  "cells": [
    {
      "cell_type": "markdown",
      "metadata": {
        "id": "view-in-github",
        "colab_type": "text"
      },
      "source": [
        "<a href=\"https://colab.research.google.com/github/PosgradoMNA/actividades-de-aprendizaje-SinaiAvalos/blob/main/Actividad%20de%20semana%201%20-%202%3A%20Python%20for%20Data%20Science%20(IBM)/Modulo3/3.4_ObjectsandClasses.ipynb\" target=\"_parent\"><img src=\"https://colab.research.google.com/assets/colab-badge.svg\" alt=\"Open In Colab\"/></a>"
      ]
    },
    {
      "cell_type": "markdown",
      "source": [
        "# **Object and Classes**"
      ],
      "metadata": {
        "id": "WAPvgnKGixNd"
      }
    },
    {
      "cell_type": "markdown",
      "source": [
        "Every object has a type, an internal data representation (a blueprint), a set of procedures for interacting with the object (methods).\n",
        "\n",
        "An object is an instance of a particular type."
      ],
      "metadata": {
        "id": "BTPKlM_AjH8M"
      }
    },
    {
      "cell_type": "code",
      "source": [
        "#find type of a object\n",
        "\n",
        "type([1,3,4])\n"
      ],
      "metadata": {
        "id": "SM0HzjwXiz1C",
        "outputId": "15ed2d46-751f-405e-f6a1-18f29aefa1e5",
        "colab": {
          "base_uri": "https://localhost:8080/"
        }
      },
      "execution_count": 34,
      "outputs": [
        {
          "output_type": "execute_result",
          "data": {
            "text/plain": [
              "list"
            ]
          },
          "metadata": {},
          "execution_count": 34
        }
      ]
    },
    {
      "cell_type": "markdown",
      "source": [
        "A class or type's methods are functions that every instance of that class or type provides (it's how you interact with an object)"
      ],
      "metadata": {
        "id": "Hco7haG6lQSb"
      }
    },
    {
      "cell_type": "code",
      "source": [
        "#defining classes\n",
        "\n",
        "class Circle(object):\n",
        "  def __init__(self, radius, color): # constructor init for making a new class\n",
        "    #data attributes radius and color using the class constructor\n",
        "    self.radius = radius;\n",
        "    self.color = color;"
      ],
      "metadata": {
        "id": "mxM_WppZPMFx"
      },
      "execution_count": 50,
      "outputs": []
    },
    {
      "cell_type": "code",
      "source": [
        "class Rectangle(object):\n",
        "  def __init__(self, color, height, width):\n",
        "    self.height = height;\n",
        "    self.width = width;\n",
        "    self.color = color;"
      ],
      "metadata": {
        "id": "SFGzbh8bnFbz"
      },
      "execution_count": 51,
      "outputs": []
    },
    {
      "cell_type": "code",
      "source": [
        "C1=Circle(10,'red')"
      ],
      "metadata": {
        "id": "XmndJ-VLsO1b"
      },
      "execution_count": 52,
      "outputs": []
    },
    {
      "cell_type": "code",
      "source": [
        "C1.color = \"blue\"\n",
        "C1.color"
      ],
      "metadata": {
        "id": "-wqiUwWgsOph",
        "outputId": "8a21b188-88ed-40e4-cfbf-b4dd8683b267",
        "colab": {
          "base_uri": "https://localhost:8080/",
          "height": 36
        }
      },
      "execution_count": 54,
      "outputs": [
        {
          "output_type": "execute_result",
          "data": {
            "text/plain": [
              "'blue'"
            ],
            "application/vnd.google.colaboratory.intrinsic+json": {
              "type": "string"
            }
          },
          "metadata": {},
          "execution_count": 54
        }
      ]
    },
    {
      "cell_type": "markdown",
      "source": [
        "**METHODS**"
      ],
      "metadata": {
        "id": "liljK844tfXp"
      }
    },
    {
      "cell_type": "markdown",
      "source": [
        "Methods are functions that interact and change the data attributes, changing or using the data attributes of the object."
      ],
      "metadata": {
        "id": "f5vrRXiEtjMZ"
      }
    },
    {
      "cell_type": "code",
      "source": [
        "class Circle(object):\n",
        "  def __init__(self, radius, color):\n",
        "    self.radius = radius;\n",
        "    self.color = color;\n",
        "  def add_radius(self,r):\n",
        "    self.radius = self.radius + r"
      ],
      "metadata": {
        "id": "60DhrtPHuNiH"
      },
      "execution_count": 56,
      "outputs": []
    },
    {
      "cell_type": "code",
      "source": [
        "C1=Circle(2,'red')\n",
        "C1.add_radius(4)\n",
        "C1.radius"
      ],
      "metadata": {
        "id": "XMmQYhs-uNbk",
        "outputId": "7dbadb90-a21c-489b-f4d8-ac64596ddcc6",
        "colab": {
          "base_uri": "https://localhost:8080/"
        }
      },
      "execution_count": 59,
      "outputs": [
        {
          "output_type": "execute_result",
          "data": {
            "text/plain": [
              "6"
            ]
          },
          "metadata": {},
          "execution_count": 59
        }
      ]
    },
    {
      "cell_type": "code",
      "source": [
        "dir(C1) #for obtaining the list of data attributes and methods"
      ],
      "metadata": {
        "id": "i0MpPf2NtbDC",
        "outputId": "0de6b06f-86fc-4835-e599-1ea987c24ce3",
        "colab": {
          "base_uri": "https://localhost:8080/"
        }
      },
      "execution_count": 64,
      "outputs": [
        {
          "output_type": "execute_result",
          "data": {
            "text/plain": [
              "['__class__',\n",
              " '__delattr__',\n",
              " '__dict__',\n",
              " '__dir__',\n",
              " '__doc__',\n",
              " '__eq__',\n",
              " '__format__',\n",
              " '__ge__',\n",
              " '__getattribute__',\n",
              " '__gt__',\n",
              " '__hash__',\n",
              " '__init__',\n",
              " '__init_subclass__',\n",
              " '__le__',\n",
              " '__lt__',\n",
              " '__module__',\n",
              " '__ne__',\n",
              " '__new__',\n",
              " '__reduce__',\n",
              " '__reduce_ex__',\n",
              " '__repr__',\n",
              " '__setattr__',\n",
              " '__sizeof__',\n",
              " '__str__',\n",
              " '__subclasshook__',\n",
              " '__weakref__',\n",
              " 'add_radius',\n",
              " 'color',\n",
              " 'radius']"
            ]
          },
          "metadata": {},
          "execution_count": 64
        }
      ]
    }
  ]
}