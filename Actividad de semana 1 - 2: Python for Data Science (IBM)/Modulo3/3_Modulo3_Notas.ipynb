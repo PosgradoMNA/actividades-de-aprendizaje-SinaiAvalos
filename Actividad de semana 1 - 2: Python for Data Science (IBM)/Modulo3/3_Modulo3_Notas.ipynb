{
  "nbformat": 4,
  "nbformat_minor": 0,
  "metadata": {
    "colab": {
      "name": "assignment01.ipynb",
      "provenance": [],
      "include_colab_link": true
    },
    "kernelspec": {
      "name": "python3",
      "display_name": "Python 3"
    },
    "language_info": {
      "name": "python"
    }
  },
  "cells": [
    {
      "cell_type": "markdown",
      "metadata": {
        "id": "view-in-github",
        "colab_type": "text"
      },
      "source": [
        "<a href=\"https://colab.research.google.com/github/PosgradoMNA/actividades-de-aprendizaje-SinaiAvalos/blob/main/Actividad%20de%20semana%201%20-%202%3A%20Python%20for%20Data%20Science%20(IBM)/Modulo3/3_Modulo3_Notas.ipynb\" target=\"_parent\"><img src=\"https://colab.research.google.com/assets/colab-badge.svg\" alt=\"Open In Colab\"/></a>"
      ]
    },
    {
      "cell_type": "markdown",
      "source": [
        "**SINAI AVALOS RIVERA - A01730466**"
      ],
      "metadata": {
        "id": "CXYk_tu52M2I"
      }
    },
    {
      "cell_type": "markdown",
      "source": [
        "# **CONDITIONS AND BRANCHING**"
      ],
      "metadata": {
        "id": "KROESa0yEckx"
      }
    },
    {
      "cell_type": "code",
      "source": [
        "a=6\n",
        "a==7"
      ],
      "metadata": {
        "id": "A1SIXATSEcZc",
        "outputId": "b2652d9e-baed-46b4-fc27-e480f0046054",
        "colab": {
          "base_uri": "https://localhost:8080/"
        }
      },
      "execution_count": 19,
      "outputs": [
        {
          "output_type": "execute_result",
          "data": {
            "text/plain": [
              "False"
            ]
          },
          "metadata": {},
          "execution_count": 19
        }
      ]
    },
    {
      "cell_type": "code",
      "execution_count": 20,
      "metadata": {
        "id": "LzUSMM79NR9P",
        "outputId": "824874d2-6da9-47ee-8554-25663fc4c8ff",
        "colab": {
          "base_uri": "https://localhost:8080/"
        }
      },
      "outputs": [
        {
          "output_type": "execute_result",
          "data": {
            "text/plain": [
              "True"
            ]
          },
          "metadata": {},
          "execution_count": 20
        }
      ],
      "source": [
        "a==6"
      ]
    },
    {
      "cell_type": "code",
      "source": [
        "i=2\n",
        "i!=6"
      ],
      "metadata": {
        "id": "dicqBXmsEv5E",
        "outputId": "4c3a3e85-e24b-4c6a-cf00-1e00a42b03de",
        "colab": {
          "base_uri": "https://localhost:8080/"
        }
      },
      "execution_count": 21,
      "outputs": [
        {
          "output_type": "execute_result",
          "data": {
            "text/plain": [
              "True"
            ]
          },
          "metadata": {},
          "execution_count": 21
        }
      ]
    },
    {
      "cell_type": "code",
      "source": [
        "\"AC/DC\"==\"Michael\""
      ],
      "metadata": {
        "id": "kLQbOWlbE1wC",
        "outputId": "7a9567bc-a652-4e8d-959b-fba81d4e9765",
        "colab": {
          "base_uri": "https://localhost:8080/"
        }
      },
      "execution_count": 22,
      "outputs": [
        {
          "output_type": "execute_result",
          "data": {
            "text/plain": [
              "False"
            ]
          },
          "metadata": {},
          "execution_count": 22
        }
      ]
    },
    {
      "cell_type": "markdown",
      "source": [
        "**BRANCHING**\n"
      ],
      "metadata": {
        "id": "J4pabqBbKP2Y"
      }
    },
    {
      "cell_type": "code",
      "source": [
        "age = 18\n",
        "if(age>18):\n",
        "  print(\"you can enter\")\n",
        "print(\"move on\")"
      ],
      "metadata": {
        "id": "Wngbs2k5E1se",
        "outputId": "5ac80a0b-8328-4331-8f2c-a832f5f15482",
        "colab": {
          "base_uri": "https://localhost:8080/"
        }
      },
      "execution_count": 23,
      "outputs": [
        {
          "output_type": "stream",
          "name": "stdout",
          "text": [
            "move on\n"
          ]
        }
      ]
    },
    {
      "cell_type": "code",
      "source": [
        "age = 28\n",
        "if(age>18):\n",
        "  print(\"you can enter\")\n",
        "print(\"move on\")"
      ],
      "metadata": {
        "id": "yhQPzaG2E1pp",
        "outputId": "271a2c79-474e-426f-f309-9c9f89b3a91b",
        "colab": {
          "base_uri": "https://localhost:8080/"
        }
      },
      "execution_count": 24,
      "outputs": [
        {
          "output_type": "stream",
          "name": "stdout",
          "text": [
            "you can enter\n",
            "move on\n"
          ]
        }
      ]
    },
    {
      "cell_type": "code",
      "source": [
        "age = 18\n",
        "if(age>18):\n",
        "  print(\"you can enter\")\n",
        "else:\n",
        "  print(\"go see Meat Loaf\")\n",
        "print(\"move on\")"
      ],
      "metadata": {
        "id": "62ZO9PDxEvzO",
        "outputId": "1c2eb366-78b5-4eda-ca72-51c1b9ba18aa",
        "colab": {
          "base_uri": "https://localhost:8080/"
        }
      },
      "execution_count": 25,
      "outputs": [
        {
          "output_type": "stream",
          "name": "stdout",
          "text": [
            "go see Meat Loaf\n",
            "move on\n"
          ]
        }
      ]
    },
    {
      "cell_type": "code",
      "source": [
        "age = 19\n",
        "if(age>18):\n",
        "  print(\"you can enter\")\n",
        "else:\n",
        "  print(\"go see Meat Loaf\")\n",
        "print(\"move on\")"
      ],
      "metadata": {
        "id": "7W4tljizEvvz",
        "outputId": "98788b91-6048-42e8-862b-94e76de4f4aa",
        "colab": {
          "base_uri": "https://localhost:8080/"
        }
      },
      "execution_count": 26,
      "outputs": [
        {
          "output_type": "stream",
          "name": "stdout",
          "text": [
            "you can enter\n",
            "move on\n"
          ]
        }
      ]
    },
    {
      "cell_type": "code",
      "source": [
        "age = 18\n",
        "if(age>18):\n",
        "  print(\"you can enter\")\n",
        "elif(age==18):\n",
        "  print(\"go see Pink Floyd\")\n",
        "else:\n",
        "  print(\"go see Meat Loaf\")\n",
        "print(\"move on\")"
      ],
      "metadata": {
        "id": "3ExP185AEvtc",
        "outputId": "2f870c84-0d26-4bbb-8fee-11560fef193e",
        "colab": {
          "base_uri": "https://localhost:8080/"
        }
      },
      "execution_count": 27,
      "outputs": [
        {
          "output_type": "stream",
          "name": "stdout",
          "text": [
            "go see Pink Floyd\n",
            "move on\n"
          ]
        }
      ]
    },
    {
      "cell_type": "code",
      "source": [
        "age = 17\n",
        "if(age>18):\n",
        "  print(\"you can enter\")\n",
        "elif(age==18):\n",
        "  print(\"go see Pink Floyd\")\n",
        "else:\n",
        "  print(\"go see Meat Loaf\")\n",
        "print(\"move on\")"
      ],
      "metadata": {
        "id": "u6YzmSKgJa_w",
        "outputId": "4cfaa2c9-ac76-464a-eb5b-026f7d077992",
        "colab": {
          "base_uri": "https://localhost:8080/"
        }
      },
      "execution_count": 28,
      "outputs": [
        {
          "output_type": "stream",
          "name": "stdout",
          "text": [
            "go see Meat Loaf\n",
            "move on\n"
          ]
        }
      ]
    },
    {
      "cell_type": "markdown",
      "source": [
        "**LOGIC OPERATORS**"
      ],
      "metadata": {
        "id": "A42P6w6uKMdY"
      }
    },
    {
      "cell_type": "code",
      "source": [
        "not(True)"
      ],
      "metadata": {
        "id": "85pQL9P6Evqy",
        "outputId": "e9a36904-dd85-492e-a7fd-6cddee6f5784",
        "colab": {
          "base_uri": "https://localhost:8080/"
        }
      },
      "execution_count": 29,
      "outputs": [
        {
          "output_type": "execute_result",
          "data": {
            "text/plain": [
              "False"
            ]
          },
          "metadata": {},
          "execution_count": 29
        }
      ]
    },
    {
      "cell_type": "code",
      "source": [
        "True or False"
      ],
      "metadata": {
        "id": "LSlhrAMaEvn2",
        "outputId": "2ab8fc31-bc90-43c5-e36d-6a518fbb8f73",
        "colab": {
          "base_uri": "https://localhost:8080/"
        }
      },
      "execution_count": 30,
      "outputs": [
        {
          "output_type": "execute_result",
          "data": {
            "text/plain": [
              "True"
            ]
          },
          "metadata": {},
          "execution_count": 30
        }
      ]
    },
    {
      "cell_type": "code",
      "source": [
        "album_year = 1990\n",
        "if(album_year<1980) or (album_year>1989):\n",
        "  print(\"The album was made in the 70's or 90's\")\n",
        "else:\n",
        "  print(\"The album was made in the 1980's\")"
      ],
      "metadata": {
        "id": "P-HAGML9Evk7",
        "outputId": "767e5233-b242-46b5-aa50-f576422dbd25",
        "colab": {
          "base_uri": "https://localhost:8080/"
        }
      },
      "execution_count": 31,
      "outputs": [
        {
          "output_type": "stream",
          "name": "stdout",
          "text": [
            "The album was made in the 70's or 90's\n"
          ]
        }
      ]
    },
    {
      "cell_type": "code",
      "source": [
        "album_year = 1983\n",
        "if(album_year>1979) and (album_year<1990):\n",
        "  print(\"The album was made in the 80's\")"
      ],
      "metadata": {
        "id": "VOFQJgglKwDb",
        "outputId": "c08bc66d-8659-4468-e7e0-947d747c0c3f",
        "colab": {
          "base_uri": "https://localhost:8080/"
        }
      },
      "execution_count": 32,
      "outputs": [
        {
          "output_type": "stream",
          "name": "stdout",
          "text": [
            "The album was made in the 80's\n"
          ]
        }
      ]
    },
    {
      "cell_type": "markdown",
      "source": [],
      "metadata": {
        "id": "qAv4A2v50Pu_"
      }
    },
    {
      "cell_type": "markdown",
      "source": [
        "# **Loops**"
      ],
      "metadata": {
        "id": "HszYM_KxNS-4"
      }
    },
    {
      "cell_type": "code",
      "execution_count": 33,
      "metadata": {
        "outputId": "4692d080-ed39-4196-b30d-70c852bc3661",
        "colab": {
          "base_uri": "https://localhost:8080/"
        },
        "id": "iEnEuW9p0P7y"
      },
      "outputs": [
        {
          "output_type": "execute_result",
          "data": {
            "text/plain": [
              "range(0, 3)"
            ]
          },
          "metadata": {},
          "execution_count": 33
        }
      ],
      "source": [
        "range(3)"
      ]
    },
    {
      "cell_type": "markdown",
      "source": [
        "**FOR LOOPS**"
      ],
      "metadata": {
        "id": "-x0930msNjzf"
      }
    },
    {
      "cell_type": "code",
      "source": [
        "squares=[\"red\",\"yellow\",\"green\",\"purple\",\"blue\"]\n",
        "for i in range(0,5):\n",
        "  squares[i]=\"white\"\n",
        "squares"
      ],
      "metadata": {
        "id": "mxM_WppZPMFx",
        "outputId": "652b2f62-6ab5-4e9f-aa77-551a5340557c",
        "colab": {
          "base_uri": "https://localhost:8080/"
        }
      },
      "execution_count": 34,
      "outputs": [
        {
          "output_type": "execute_result",
          "data": {
            "text/plain": [
              "['white', 'white', 'white', 'white', 'white']"
            ]
          },
          "metadata": {},
          "execution_count": 34
        }
      ]
    },
    {
      "cell_type": "code",
      "source": [
        "squares=[\"red\",\"yellow\",\"green\",\"purple\",\"blue\"]\n",
        "for square in squares:\n",
        "  print(square)"
      ],
      "metadata": {
        "id": "8akuxKGmN5zM",
        "outputId": "48008a65-e5d7-4862-ea57-fe87b587d9a1",
        "colab": {
          "base_uri": "https://localhost:8080/"
        }
      },
      "execution_count": 35,
      "outputs": [
        {
          "output_type": "stream",
          "name": "stdout",
          "text": [
            "red\n",
            "yellow\n",
            "green\n",
            "purple\n",
            "blue\n"
          ]
        }
      ]
    },
    {
      "cell_type": "code",
      "source": [
        "squares=[\"red\",\"yellow\",\"green\",\"purple\",\"blue\"]\n",
        "for i,square in enumerate(squares):\n",
        "  print(square)\n",
        "  print(i)"
      ],
      "metadata": {
        "id": "rdR0Yg-4OtxO",
        "outputId": "780b14d0-04fb-4ac1-bb10-7de0238cdd2c",
        "colab": {
          "base_uri": "https://localhost:8080/"
        }
      },
      "execution_count": 36,
      "outputs": [
        {
          "output_type": "stream",
          "name": "stdout",
          "text": [
            "red\n",
            "0\n",
            "yellow\n",
            "1\n",
            "green\n",
            "2\n",
            "purple\n",
            "3\n",
            "blue\n",
            "4\n"
          ]
        }
      ]
    },
    {
      "cell_type": "markdown",
      "source": [
        "**WHILE LOOPS**"
      ],
      "metadata": {
        "id": "YvFRIddpPVx2"
      }
    },
    {
      "cell_type": "code",
      "source": [
        "squares=[\"orange\",\"orange\",\"purple\",\"orange\"]\n",
        "Newsquares=[]\n",
        "i=0\n",
        "while(squares[i]==\"orange\"):\n",
        "  Newsquares.append(squares[i])\n",
        "  print(i)\n",
        "  i=i+1\n",
        "  "
      ],
      "metadata": {
        "id": "70VuAzVDOttP",
        "outputId": "7a63a05a-6b95-44e8-af63-5aeb4c2fee23",
        "colab": {
          "base_uri": "https://localhost:8080/"
        }
      },
      "execution_count": 37,
      "outputs": [
        {
          "output_type": "stream",
          "name": "stdout",
          "text": [
            "0\n",
            "1\n"
          ]
        }
      ]
    },
    {
      "cell_type": "markdown",
      "source": [
        "# **FUNCTIONS**"
      ],
      "metadata": {
        "id": "fu8iNulP09kP"
      }
    },
    {
      "cell_type": "markdown",
      "source": [
        "Functions take some input then produce some output or change. The function is just a piece of code you can reuse. If we define a function to do the task we just have to call the function."
      ],
      "metadata": {
        "id": "UIaGaAN-1AZX"
      }
    },
    {
      "cell_type": "code",
      "source": [
        "album_ratings = [10.0,8.5,9.5,7.0,7.0,.5,9.0,9.5]\n",
        "L=len(album_ratings)\n",
        "L"
      ],
      "metadata": {
        "colab": {
          "base_uri": "https://localhost:8080/"
        },
        "id": "DW66xIaL1CPf",
        "outputId": "c36e56f2-4398-4a0b-b471-6860a26e9427"
      },
      "execution_count": 1,
      "outputs": [
        {
          "output_type": "execute_result",
          "data": {
            "text/plain": [
              "8"
            ]
          },
          "metadata": {},
          "execution_count": 1
        }
      ]
    },
    {
      "cell_type": "code",
      "source": [
        "S=sum(album_ratings)\n",
        "S"
      ],
      "metadata": {
        "colab": {
          "base_uri": "https://localhost:8080/"
        },
        "id": "H_xR6TSh1DPX",
        "outputId": "68a9a784-2bc1-4ded-ef84-e69c177a891a"
      },
      "execution_count": 2,
      "outputs": [
        {
          "output_type": "execute_result",
          "data": {
            "text/plain": [
              "61.0"
            ]
          },
          "metadata": {},
          "execution_count": 2
        }
      ]
    },
    {
      "cell_type": "code",
      "source": [
        "#function sorted returns a new sorted list or tuple\n",
        "sorted_album_rating = sorted(album_ratings)\n",
        "sorted_album_rating"
      ],
      "metadata": {
        "colab": {
          "base_uri": "https://localhost:8080/"
        },
        "id": "mHOxo5Hb1FIZ",
        "outputId": "b7d48150-4e63-4f39-d883-4abe7b8c6d9c"
      },
      "execution_count": 3,
      "outputs": [
        {
          "output_type": "execute_result",
          "data": {
            "text/plain": [
              "[0.5, 7.0, 7.0, 8.5, 9.0, 9.5, 9.5, 10.0]"
            ]
          },
          "metadata": {},
          "execution_count": 3
        }
      ]
    },
    {
      "cell_type": "code",
      "source": [
        "#method sort: the list album ratings will change and no new list will be created\n",
        "album_ratings = [10.0,8.5,9.5,7.0,7.0,.5,9.0,9.5]\n",
        "album_ratings.sort()\n",
        "album_ratings"
      ],
      "metadata": {
        "colab": {
          "base_uri": "https://localhost:8080/"
        },
        "id": "7UxKhYH41Gp4",
        "outputId": "357d1abc-3778-45f8-dc81-ba2eb746a3f0"
      },
      "execution_count": 4,
      "outputs": [
        {
          "output_type": "execute_result",
          "data": {
            "text/plain": [
              "[0.5, 7.0, 7.0, 8.5, 9.0, 9.5, 9.5, 10.0]"
            ]
          },
          "metadata": {},
          "execution_count": 4
        }
      ]
    },
    {
      "cell_type": "markdown",
      "source": [
        "**Making functions**"
      ],
      "metadata": {
        "id": "UMC32_yc1I9O"
      }
    },
    {
      "cell_type": "code",
      "source": [
        "def add1(a):\n",
        "  #a is a function formal parameter\n",
        "  b=a+1\n",
        "  return b\n",
        "\n",
        "c = add1(5)\n",
        "c"
      ],
      "metadata": {
        "colab": {
          "base_uri": "https://localhost:8080/"
        },
        "id": "mMA6hvNN1N82",
        "outputId": "584c8944-3fef-4334-f85a-d63a0a6b5566"
      },
      "execution_count": 5,
      "outputs": [
        {
          "output_type": "execute_result",
          "data": {
            "text/plain": [
              "6"
            ]
          },
          "metadata": {},
          "execution_count": 5
        }
      ]
    },
    {
      "cell_type": "code",
      "source": [
        "#function with multiple parameters\n",
        "def Mult(a,b):\n",
        "  c=a*b\n",
        "  return c\n",
        "\n",
        "Mult(\"Hola \",2)"
      ],
      "metadata": {
        "colab": {
          "base_uri": "https://localhost:8080/",
          "height": 36
        },
        "id": "ynoa49Wc1OWj",
        "outputId": "9b286950-0c43-4f46-a51d-263c8e8139bb"
      },
      "execution_count": 6,
      "outputs": [
        {
          "output_type": "execute_result",
          "data": {
            "text/plain": [
              "'Hola Hola '"
            ],
            "application/vnd.google.colaboratory.intrinsic+json": {
              "type": "string"
            }
          },
          "metadata": {},
          "execution_count": 6
        }
      ]
    },
    {
      "cell_type": "code",
      "source": [
        "#function with no return\n",
        "\n",
        "def MJ():\n",
        "  print(\"Michael Jackson\")\n",
        "\n",
        "MJ();"
      ],
      "metadata": {
        "colab": {
          "base_uri": "https://localhost:8080/"
        },
        "id": "d3khsDOd1Pgh",
        "outputId": "d626978f-0d8d-42ed-9d3c-85f0d6cf3099"
      },
      "execution_count": 7,
      "outputs": [
        {
          "output_type": "stream",
          "name": "stdout",
          "text": [
            "Michael Jackson\n"
          ]
        }
      ]
    },
    {
      "cell_type": "code",
      "source": [
        "#function that perform no task\n",
        "def NoWork():\n",
        "  pass #allows to do nothing\n",
        "\n",
        "print(NoWork())"
      ],
      "metadata": {
        "colab": {
          "base_uri": "https://localhost:8080/"
        },
        "id": "Oqtug3v31QjH",
        "outputId": "7bda0532-4e9d-4c13-9f34-7d6f6c73fa92"
      },
      "execution_count": 8,
      "outputs": [
        {
          "output_type": "stream",
          "name": "stdout",
          "text": [
            "None\n"
          ]
        }
      ]
    },
    {
      "cell_type": "code",
      "source": [
        "#Global Scope\n",
        "\n",
        "def ACDC(y):\n",
        "  print(Rating)\n",
        "  return(Rating+y)\n",
        "\n",
        "Rating = 9\n",
        "\n",
        "Z=ACDC(1)\n",
        "\n",
        "print(Rating)"
      ],
      "metadata": {
        "colab": {
          "base_uri": "https://localhost:8080/"
        },
        "id": "8veMS9l11Sq8",
        "outputId": "7afb785b-3794-411c-99cb-696f4b289057"
      },
      "execution_count": 9,
      "outputs": [
        {
          "output_type": "stream",
          "name": "stdout",
          "text": [
            "9\n",
            "9\n"
          ]
        }
      ]
    },
    {
      "cell_type": "code",
      "source": [
        "#Global scope variable\n",
        "\n",
        "def PinkFloyd():\n",
        "  global ClaimedSales\n",
        "  ClaimedSales = \"45m\"\n",
        "  return ClaimedSales\n",
        "\n",
        "PinkFloyd()\n",
        "print(ClaimedSales)"
      ],
      "metadata": {
        "colab": {
          "base_uri": "https://localhost:8080/"
        },
        "id": "s_s0r6fW1Tl2",
        "outputId": "12677040-c659-4bb6-8fde-4b8856908573"
      },
      "execution_count": 10,
      "outputs": [
        {
          "output_type": "stream",
          "name": "stdout",
          "text": [
            "45m\n"
          ]
        }
      ]
    },
    {
      "cell_type": "markdown",
      "source": [
        "# **OBJECTS AND CLASSES**"
      ],
      "metadata": {
        "id": "3cIlSDhx1XZf"
      }
    },
    {
      "cell_type": "markdown",
      "source": [
        "Every object has a type, an internal data representation (a blueprint), a set of procedures for interacting with the object (methods).\n",
        "\n",
        "An object is an instance of a particular type."
      ],
      "metadata": {
        "id": "wN__DPi51bV4"
      }
    },
    {
      "cell_type": "code",
      "source": [
        "#find type of a object\n",
        "\n",
        "type([1,3,4])"
      ],
      "metadata": {
        "colab": {
          "base_uri": "https://localhost:8080/"
        },
        "id": "Rzbqg92B1VFB",
        "outputId": "f638520c-e663-4d30-a5cd-2c3e0080c086"
      },
      "execution_count": 11,
      "outputs": [
        {
          "output_type": "execute_result",
          "data": {
            "text/plain": [
              "list"
            ]
          },
          "metadata": {},
          "execution_count": 11
        }
      ]
    },
    {
      "cell_type": "markdown",
      "source": [
        "A class or type's methods are functions that every instance of that class or type provides (it's how you interact with an object)"
      ],
      "metadata": {
        "id": "hbU3a83R1fg3"
      }
    },
    {
      "cell_type": "code",
      "source": [
        "#defining classes\n",
        "\n",
        "class Circle(object):\n",
        "  def __init__(self, radius, color): # constructor init for making a new class\n",
        "    #data attributes radius and color using the class constructor\n",
        "    self.radius = radius;\n",
        "    self.color = color;"
      ],
      "metadata": {
        "id": "lgROvhu51aqG"
      },
      "execution_count": 12,
      "outputs": []
    },
    {
      "cell_type": "code",
      "source": [
        "class Rectangle(object):\n",
        "  def __init__(self, color, height, width):\n",
        "    self.height = height;\n",
        "    self.width = width;\n",
        "    self.color = color;"
      ],
      "metadata": {
        "id": "3YC6bR3B1am-"
      },
      "execution_count": 13,
      "outputs": []
    },
    {
      "cell_type": "code",
      "source": [
        "C1=Circle(10,'red')"
      ],
      "metadata": {
        "id": "PVw8lVci1aie"
      },
      "execution_count": 14,
      "outputs": []
    },
    {
      "cell_type": "code",
      "source": [
        "C1.color = \"blue\"\n",
        "C1.color"
      ],
      "metadata": {
        "colab": {
          "base_uri": "https://localhost:8080/",
          "height": 36
        },
        "id": "Rbg3t-z51i34",
        "outputId": "f379e879-f1b9-4570-f7c8-e04fc307367e"
      },
      "execution_count": 15,
      "outputs": [
        {
          "output_type": "execute_result",
          "data": {
            "text/plain": [
              "'blue'"
            ],
            "application/vnd.google.colaboratory.intrinsic+json": {
              "type": "string"
            }
          },
          "metadata": {},
          "execution_count": 15
        }
      ]
    },
    {
      "cell_type": "markdown",
      "source": [
        "**METHODS**"
      ],
      "metadata": {
        "id": "-i92-Lsv1kXx"
      }
    },
    {
      "cell_type": "markdown",
      "source": [
        "Methods are functions that interact and change the data attributes, changing or using the data attributes of the object."
      ],
      "metadata": {
        "id": "-qDZnTCx1nP2"
      }
    },
    {
      "cell_type": "code",
      "source": [
        "class Circle(object):\n",
        "  def __init__(self, radius, color):\n",
        "    self.radius = radius;\n",
        "    self.color = color;\n",
        "  def add_radius(self,r):\n",
        "    self.radius = self.radius + r"
      ],
      "metadata": {
        "id": "xveaq6kT1j0_"
      },
      "execution_count": 16,
      "outputs": []
    },
    {
      "cell_type": "code",
      "source": [
        "C1=Circle(2,'red')\n",
        "C1.add_radius(4)\n",
        "C1.radius"
      ],
      "metadata": {
        "colab": {
          "base_uri": "https://localhost:8080/"
        },
        "id": "tSb9N5cp1o85",
        "outputId": "3539b0c4-ba6e-45af-e4e8-0517150951d6"
      },
      "execution_count": 17,
      "outputs": [
        {
          "output_type": "execute_result",
          "data": {
            "text/plain": [
              "6"
            ]
          },
          "metadata": {},
          "execution_count": 17
        }
      ]
    },
    {
      "cell_type": "code",
      "source": [
        "dir(C1) #for obtaining the list of data attributes and methods"
      ],
      "metadata": {
        "colab": {
          "base_uri": "https://localhost:8080/"
        },
        "id": "dpxyJr4P1pyr",
        "outputId": "f3fe33c5-2551-4d85-e844-1222b6029d8a"
      },
      "execution_count": 18,
      "outputs": [
        {
          "output_type": "execute_result",
          "data": {
            "text/plain": [
              "['__class__',\n",
              " '__delattr__',\n",
              " '__dict__',\n",
              " '__dir__',\n",
              " '__doc__',\n",
              " '__eq__',\n",
              " '__format__',\n",
              " '__ge__',\n",
              " '__getattribute__',\n",
              " '__gt__',\n",
              " '__hash__',\n",
              " '__init__',\n",
              " '__init_subclass__',\n",
              " '__le__',\n",
              " '__lt__',\n",
              " '__module__',\n",
              " '__ne__',\n",
              " '__new__',\n",
              " '__reduce__',\n",
              " '__reduce_ex__',\n",
              " '__repr__',\n",
              " '__setattr__',\n",
              " '__sizeof__',\n",
              " '__str__',\n",
              " '__subclasshook__',\n",
              " '__weakref__',\n",
              " 'add_radius',\n",
              " 'color',\n",
              " 'radius']"
            ]
          },
          "metadata": {},
          "execution_count": 18
        }
      ]
    }
  ]
}