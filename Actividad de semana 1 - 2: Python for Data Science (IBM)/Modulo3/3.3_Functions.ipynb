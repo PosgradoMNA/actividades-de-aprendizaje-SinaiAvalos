{
  "nbformat": 4,
  "nbformat_minor": 0,
  "metadata": {
    "colab": {
      "name": "assignment01.ipynb",
      "provenance": [],
      "include_colab_link": true
    },
    "kernelspec": {
      "name": "python3",
      "display_name": "Python 3"
    },
    "language_info": {
      "name": "python"
    }
  },
  "cells": [
    {
      "cell_type": "markdown",
      "metadata": {
        "id": "view-in-github",
        "colab_type": "text"
      },
      "source": [
        "<a href=\"https://colab.research.google.com/github/PosgradoMNA/actividades-de-aprendizaje-SinaiAvalos/blob/main/Actividad%20de%20semana%201%20-%202%3A%20Python%20for%20Data%20Science%20(IBM)/Modulo3/Functions.ipynb\" target=\"_parent\"><img src=\"https://colab.research.google.com/assets/colab-badge.svg\" alt=\"Open In Colab\"/></a>"
      ]
    },
    {
      "cell_type": "markdown",
      "source": [
        "**SINAÍ AVALOS RIVERA \n",
        "A01730466**"
      ],
      "metadata": {
        "id": "8i4Fr-LlR0Fx"
      }
    },
    {
      "cell_type": "markdown",
      "source": [
        "# **FUNCTIONS**"
      ],
      "metadata": {
        "id": "lixLDytnQ55z"
      }
    },
    {
      "cell_type": "markdown",
      "source": [
        "Functions take some input then produce some output or change.\n",
        "The function is just a piece of code you can reuse. If we define a function to do the task we just have to call the function."
      ],
      "metadata": {
        "id": "0mDX6AfhRGpK"
      }
    },
    {
      "cell_type": "code",
      "source": [
        "album_ratings = [10.0,8.5,9.5,7.0,7.0,.5,9.0,9.5]\n",
        "L=len(album_ratings)\n",
        "L"
      ],
      "metadata": {
        "id": "kDDX-GGaQ8hD",
        "outputId": "c7be2cb4-5697-4c7f-a6ea-bb2987d9829e",
        "colab": {
          "base_uri": "https://localhost:8080/"
        }
      },
      "execution_count": 2,
      "outputs": [
        {
          "output_type": "execute_result",
          "data": {
            "text/plain": [
              "8"
            ]
          },
          "metadata": {},
          "execution_count": 2
        }
      ]
    },
    {
      "cell_type": "code",
      "source": [
        "S=sum(album_ratings)\n",
        "S"
      ],
      "metadata": {
        "id": "gPFloZLSRJdq",
        "outputId": "281fd88d-487d-4aa5-a950-c9cb32507016",
        "colab": {
          "base_uri": "https://localhost:8080/"
        }
      },
      "execution_count": 3,
      "outputs": [
        {
          "output_type": "execute_result",
          "data": {
            "text/plain": [
              "61.0"
            ]
          },
          "metadata": {},
          "execution_count": 3
        }
      ]
    },
    {
      "cell_type": "markdown",
      "source": [
        "Methods are similar to functions."
      ],
      "metadata": {
        "id": "Lh2JkIcNS02i"
      }
    },
    {
      "cell_type": "code",
      "source": [
        "#function sorted returns a new sorted list or tuple\n",
        "sorted_album_rating = sorted(album_ratings)\n",
        "sorted_album_rating"
      ],
      "metadata": {
        "id": "mxM_WppZPMFx",
        "outputId": "5db69f18-c16e-473b-ffeb-f45dc15c57a1",
        "colab": {
          "base_uri": "https://localhost:8080/"
        }
      },
      "execution_count": 7,
      "outputs": [
        {
          "output_type": "execute_result",
          "data": {
            "text/plain": [
              "[0.5, 7.0, 7.0, 8.5, 9.0, 9.5, 9.5, 10.0]"
            ]
          },
          "metadata": {},
          "execution_count": 7
        }
      ]
    },
    {
      "cell_type": "code",
      "source": [
        "#method sort: the list album ratings will change and no new list will be created\n",
        "album_ratings = [10.0,8.5,9.5,7.0,7.0,.5,9.0,9.5]\n",
        "album_ratings.sort()\n",
        "album_ratings"
      ],
      "metadata": {
        "id": "tc7q6mShTEs8",
        "outputId": "faeb5a55-2703-4a1f-8f7c-dc0b50ef5b51",
        "colab": {
          "base_uri": "https://localhost:8080/"
        }
      },
      "execution_count": 8,
      "outputs": [
        {
          "output_type": "execute_result",
          "data": {
            "text/plain": [
              "[0.5, 7.0, 7.0, 8.5, 9.0, 9.5, 9.5, 10.0]"
            ]
          },
          "metadata": {},
          "execution_count": 8
        }
      ]
    },
    {
      "cell_type": "markdown",
      "source": [
        "**Making functions**"
      ],
      "metadata": {
        "id": "U83av6lSV33G"
      }
    },
    {
      "cell_type": "code",
      "source": [
        "def add1(a):\n",
        "  #a is a function formal parameter\n",
        "  b=a+1\n",
        "  return b\n",
        "\n",
        "c = add1(5)\n",
        "c"
      ],
      "metadata": {
        "id": "eE5VaWb1UMd6",
        "outputId": "3740f056-4c57-442b-9432-971cb8457c2b",
        "colab": {
          "base_uri": "https://localhost:8080/"
        }
      },
      "execution_count": 17,
      "outputs": [
        {
          "output_type": "execute_result",
          "data": {
            "text/plain": [
              "6"
            ]
          },
          "metadata": {},
          "execution_count": 17
        }
      ]
    },
    {
      "cell_type": "code",
      "source": [
        "#function with multiple parameters\n",
        "def Mult(a,b):\n",
        "  c=a*b\n",
        "  return c\n",
        "\n",
        "Mult(\"Hola \",2)"
      ],
      "metadata": {
        "id": "EckH_HzFV877",
        "outputId": "4e556b5c-2249-49cd-852b-df8a44d139cc",
        "colab": {
          "base_uri": "https://localhost:8080/",
          "height": 36
        }
      },
      "execution_count": 19,
      "outputs": [
        {
          "output_type": "execute_result",
          "data": {
            "text/plain": [
              "'Hola Hola '"
            ],
            "application/vnd.google.colaboratory.intrinsic+json": {
              "type": "string"
            }
          },
          "metadata": {},
          "execution_count": 19
        }
      ]
    },
    {
      "cell_type": "code",
      "source": [
        "#function with no return\n",
        "\n",
        "def MJ():\n",
        "  print(\"Michael Jackson\")\n",
        "\n",
        "MJ();"
      ],
      "metadata": {
        "id": "nkwz8Mq_cSf3",
        "outputId": "54638e84-88d7-49a3-fcb7-97d337b8fc25",
        "colab": {
          "base_uri": "https://localhost:8080/"
        }
      },
      "execution_count": 21,
      "outputs": [
        {
          "output_type": "stream",
          "name": "stdout",
          "text": [
            "Michael Jackson\n"
          ]
        }
      ]
    },
    {
      "cell_type": "code",
      "source": [
        "#function that perform no task"
      ],
      "metadata": {
        "id": "frLIUS0Kcgsv"
      },
      "execution_count": 22,
      "outputs": []
    },
    {
      "cell_type": "code",
      "source": [
        "def NoWork():\n",
        "  pass #allows to do nothing\n",
        "\n",
        "print(NoWork())"
      ],
      "metadata": {
        "id": "6dW2lmwaVmUY",
        "outputId": "acbb0b26-e3d9-4dd4-bfc8-3b0c0cc15171",
        "colab": {
          "base_uri": "https://localhost:8080/"
        }
      },
      "execution_count": 24,
      "outputs": [
        {
          "output_type": "stream",
          "name": "stdout",
          "text": [
            "None\n"
          ]
        }
      ]
    },
    {
      "cell_type": "code",
      "source": [
        "#Global Scope\n",
        "\n",
        "def ACDC(y):\n",
        "  print(Rating)\n",
        "  return(Rating+y)\n",
        "\n",
        "Rating = 9\n",
        "\n",
        "Z=ACDC(1)\n",
        "\n",
        "print(Rating)"
      ],
      "metadata": {
        "id": "QDjlkrUiUN8o",
        "outputId": "93cd4d3d-2b48-4a73-d228-b038edf90650",
        "colab": {
          "base_uri": "https://localhost:8080/"
        }
      },
      "execution_count": 29,
      "outputs": [
        {
          "output_type": "stream",
          "name": "stdout",
          "text": [
            "9\n",
            "9\n"
          ]
        }
      ]
    },
    {
      "cell_type": "code",
      "source": [
        "#Global scope variable\n",
        "\n",
        "def PinkFloyd():\n",
        "  global ClaimedSales\n",
        "  ClaimedSales = \"45m\"\n",
        "  return ClaimedSales\n",
        "\n",
        "PinkFloyd()\n",
        "print(ClaimedSales)"
      ],
      "metadata": {
        "id": "2lo4UhJ6UN0o",
        "outputId": "446d1f42-314f-440c-aaba-29f7f07ff326",
        "colab": {
          "base_uri": "https://localhost:8080/"
        }
      },
      "execution_count": 31,
      "outputs": [
        {
          "output_type": "stream",
          "name": "stdout",
          "text": [
            "45m\n"
          ]
        }
      ]
    }
  ]
}
