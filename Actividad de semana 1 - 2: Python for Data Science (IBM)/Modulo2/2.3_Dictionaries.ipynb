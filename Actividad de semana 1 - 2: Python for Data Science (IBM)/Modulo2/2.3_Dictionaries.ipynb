{
  "nbformat": 4,
  "nbformat_minor": 0,
  "metadata": {
    "colab": {
      "name": "assignment01.ipynb",
      "provenance": [],
      "include_colab_link": true
    },
    "kernelspec": {
      "name": "python3",
      "display_name": "Python 3"
    },
    "language_info": {
      "name": "python"
    }
  },
  "cells": [
    {
      "cell_type": "markdown",
      "metadata": {
        "id": "view-in-github",
        "colab_type": "text"
      },
      "source": [
        "<a href=\"https://colab.research.google.com/github/PosgradoMNA/actividades-de-aprendizaje-SinaiAvalos/blob/main/Actividad%20de%20semana%201%20-%202%3A%20Python%20for%20Data%20Science%20(IBM)/Modulo2/2.3_Dictionaries.ipynb\" target=\"_parent\"><img src=\"https://colab.research.google.com/assets/colab-badge.svg\" alt=\"Open In Colab\"/></a>"
      ]
    },
    {
      "cell_type": "markdown",
      "source": [
        "# **Dictionaries**"
      ],
      "metadata": {
        "id": "rpHDJrUK0N5q"
      }
    },
    {
      "cell_type": "code",
      "execution_count": 89,
      "metadata": {
        "id": "LzUSMM79NR9P",
        "outputId": "0c6ae49f-b7df-41c4-ded3-cef209c471f2",
        "colab": {
          "base_uri": "https://localhost:8080/"
        }
      },
      "outputs": [
        {
          "output_type": "execute_result",
          "data": {
            "text/plain": [
              "{'Thriller': 1982, 'Back in Black': 1980, 'The Dark side of the Moon': 1973}"
            ]
          },
          "metadata": {},
          "execution_count": 89
        }
      ],
      "source": [
        "#Dictionaries are a type of collection and has keys and values\n",
        "\n",
        "{\"Thriller\":1982,\"Back in Black\":1980,\"The Dark side of the Moon\":1973}"
      ]
    },
    {
      "cell_type": "code",
      "source": [
        "DICT={'Thriller': 1982, 'Back in Black': 1980, 'The Dark side of the Moon': 1973}"
      ],
      "metadata": {
        "id": "VFDQzYCX0SK5"
      },
      "execution_count": 90,
      "outputs": []
    },
    {
      "cell_type": "code",
      "source": [
        "DICT[\"Back in Black\"]"
      ],
      "metadata": {
        "id": "M0Scd0G-0SH6",
        "outputId": "c5b1daa7-d822-4dcb-9e7f-e17f5ef3af89",
        "colab": {
          "base_uri": "https://localhost:8080/"
        }
      },
      "execution_count": 91,
      "outputs": [
        {
          "output_type": "execute_result",
          "data": {
            "text/plain": [
              "1980"
            ]
          },
          "metadata": {},
          "execution_count": 91
        }
      ]
    },
    {
      "cell_type": "code",
      "source": [
        "DICT[\"Graduation\"]='2007'"
      ],
      "metadata": {
        "id": "5PvCXH6Q0SBx"
      },
      "execution_count": 92,
      "outputs": []
    },
    {
      "cell_type": "code",
      "source": [
        "DICT"
      ],
      "metadata": {
        "id": "mJm9RWM80R9J",
        "outputId": "06a3bfc1-1faa-4d4b-e76f-e88dd1be9ef4",
        "colab": {
          "base_uri": "https://localhost:8080/"
        }
      },
      "execution_count": 93,
      "outputs": [
        {
          "output_type": "execute_result",
          "data": {
            "text/plain": [
              "{'Thriller': 1982,\n",
              " 'Back in Black': 1980,\n",
              " 'The Dark side of the Moon': 1973,\n",
              " 'Graduation': '2007'}"
            ]
          },
          "metadata": {},
          "execution_count": 93
        }
      ]
    },
    {
      "cell_type": "code",
      "source": [
        "del(DICT['Thriller'])"
      ],
      "metadata": {
        "id": "QmkvdS4l0R6Z"
      },
      "execution_count": 94,
      "outputs": []
    },
    {
      "cell_type": "code",
      "source": [
        "DICT"
      ],
      "metadata": {
        "id": "mxM_WppZPMFx",
        "outputId": "e6ace84f-5fc1-48ec-a701-bc6fb35afd69",
        "colab": {
          "base_uri": "https://localhost:8080/"
        }
      },
      "execution_count": 95,
      "outputs": [
        {
          "output_type": "execute_result",
          "data": {
            "text/plain": [
              "{'Back in Black': 1980,\n",
              " 'The Dark side of the Moon': 1973,\n",
              " 'Graduation': '2007'}"
            ]
          },
          "metadata": {},
          "execution_count": 95
        }
      ]
    },
    {
      "cell_type": "code",
      "source": [
        "\"Graduation\" in DICT"
      ],
      "metadata": {
        "id": "ZC34gfUh1n4h",
        "outputId": "bd8ad7e8-9600-41d8-c89e-cbe937e312c2",
        "colab": {
          "base_uri": "https://localhost:8080/"
        }
      },
      "execution_count": 96,
      "outputs": [
        {
          "output_type": "execute_result",
          "data": {
            "text/plain": [
              "True"
            ]
          },
          "metadata": {},
          "execution_count": 96
        }
      ]
    },
    {
      "cell_type": "code",
      "source": [
        "\"Graduation1\" in DICT"
      ],
      "metadata": {
        "id": "MLUn0EHt1sLV",
        "outputId": "defd04d8-9a3d-4901-bacc-b6dc7fd98e0f",
        "colab": {
          "base_uri": "https://localhost:8080/"
        }
      },
      "execution_count": 97,
      "outputs": [
        {
          "output_type": "execute_result",
          "data": {
            "text/plain": [
              "False"
            ]
          },
          "metadata": {},
          "execution_count": 97
        }
      ]
    },
    {
      "cell_type": "code",
      "source": [
        "DICT.keys()"
      ],
      "metadata": {
        "id": "nFmgi8cu1t1n",
        "outputId": "367b1e12-6abb-433a-d470-438b9c27ca4a",
        "colab": {
          "base_uri": "https://localhost:8080/"
        }
      },
      "execution_count": 98,
      "outputs": [
        {
          "output_type": "execute_result",
          "data": {
            "text/plain": [
              "dict_keys(['Back in Black', 'The Dark side of the Moon', 'Graduation'])"
            ]
          },
          "metadata": {},
          "execution_count": 98
        }
      ]
    },
    {
      "cell_type": "code",
      "source": [
        "DICT.values()"
      ],
      "metadata": {
        "id": "Ic-iwFo-1zXK",
        "outputId": "a70fcf30-feaf-4015-8a96-b2fd4d80348d",
        "colab": {
          "base_uri": "https://localhost:8080/"
        }
      },
      "execution_count": 99,
      "outputs": [
        {
          "output_type": "execute_result",
          "data": {
            "text/plain": [
              "dict_values([1980, 1973, '2007'])"
            ]
          },
          "metadata": {},
          "execution_count": 99
        }
      ]
    },
    {
      "cell_type": "markdown",
      "source": [
        "**Questions**"
      ],
      "metadata": {
        "id": "FH6TBgNB15kw"
      }
    },
    {
      "cell_type": "code",
      "source": [
        "D = {'a':0,'b':1,'c':2}\n",
        "D.values"
      ],
      "metadata": {
        "id": "Nw3X33T211Ut",
        "outputId": "d5b34ab8-410f-46b5-a914-9bbc255826b2",
        "colab": {
          "base_uri": "https://localhost:8080/"
        }
      },
      "execution_count": 103,
      "outputs": [
        {
          "output_type": "execute_result",
          "data": {
            "text/plain": [
              "<function dict.values>"
            ]
          },
          "metadata": {},
          "execution_count": 103
        }
      ]
    },
    {
      "cell_type": "code",
      "source": [
        "D['b']"
      ],
      "metadata": {
        "id": "5yQqpbyW15U5",
        "outputId": "8390f7ca-57e0-4a6a-83f8-4f704c067716",
        "colab": {
          "base_uri": "https://localhost:8080/"
        }
      },
      "execution_count": 104,
      "outputs": [
        {
          "output_type": "execute_result",
          "data": {
            "text/plain": [
              "1"
            ]
          },
          "metadata": {},
          "execution_count": 104
        }
      ]
    }
  ]
}