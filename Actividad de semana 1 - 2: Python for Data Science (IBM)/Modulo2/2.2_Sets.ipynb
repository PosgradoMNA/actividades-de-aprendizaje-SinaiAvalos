{
  "nbformat": 4,
  "nbformat_minor": 0,
  "metadata": {
    "colab": {
      "name": "assignment01.ipynb",
      "provenance": [],
      "include_colab_link": true
    },
    "kernelspec": {
      "name": "python3",
      "display_name": "Python 3"
    },
    "language_info": {
      "name": "python"
    }
  },
  "cells": [
    {
      "cell_type": "markdown",
      "metadata": {
        "id": "view-in-github",
        "colab_type": "text"
      },
      "source": [
        "<a href=\"https://colab.research.google.com/github/PosgradoMNA/actividades-de-aprendizaje-SinaiAvalos/blob/main/Actividad%20de%20semana%201%20-%202%3A%20Python%20for%20Data%20Science%20(IBM)/Modulo2/2.2_Sets.ipynb\" target=\"_parent\"><img src=\"https://colab.research.google.com/assets/colab-badge.svg\" alt=\"Open In Colab\"/></a>"
      ]
    },
    {
      "cell_type": "markdown",
      "source": [
        "# **SETS**"
      ],
      "metadata": {
        "id": "I5B7GgVjxXsa"
      }
    },
    {
      "cell_type": "code",
      "execution_count": 62,
      "metadata": {
        "id": "LzUSMM79NR9P",
        "outputId": "85d980b8-9d0f-4644-9507-7d7b88425f0e",
        "colab": {
          "base_uri": "https://localhost:8080/"
        }
      },
      "outputs": [
        {
          "output_type": "execute_result",
          "data": {
            "text/plain": [
              "{'R&B', 'disco', 'hard rock', 'pop', 'rock', 'soul'}"
            ]
          },
          "metadata": {},
          "execution_count": 62
        }
      ],
      "source": [
        "Set1={\"pop\",\"rock\",\"soul\",\"hard rock\",\"rock\",\"R&B\",\"rock\",\"disco\"}\n",
        "Set1"
      ]
    },
    {
      "cell_type": "code",
      "source": [
        "album_list=[\"Michael Jackson\",\"Thriller\",\"Thriller\",1982]"
      ],
      "metadata": {
        "id": "mxM_WppZPMFx"
      },
      "execution_count": 63,
      "outputs": []
    },
    {
      "cell_type": "code",
      "source": [
        "album_set=set(album_list)\n",
        "album_set"
      ],
      "metadata": {
        "id": "fSlwIlAix226",
        "outputId": "6df494ff-fd2d-4b12-b0f4-6b653ce60a64",
        "colab": {
          "base_uri": "https://localhost:8080/"
        }
      },
      "execution_count": 65,
      "outputs": [
        {
          "output_type": "execute_result",
          "data": {
            "text/plain": [
              "{1982, 'Michael Jackson', 'Thriller'}"
            ]
          },
          "metadata": {},
          "execution_count": 65
        }
      ]
    },
    {
      "cell_type": "markdown",
      "source": [
        "**SET OPERATIONS**"
      ],
      "metadata": {
        "id": "QGsoLQOByJlh"
      }
    },
    {
      "cell_type": "code",
      "source": [
        "A={\"Thriller\",\"Back in Black\", \"AC/DC\"}\n",
        "A.add(\"NSYNC\")\n",
        "A"
      ],
      "metadata": {
        "id": "bdpNhhFpx2uC",
        "outputId": "09952292-c3f6-4f18-c1c0-660c5a438f5c",
        "colab": {
          "base_uri": "https://localhost:8080/"
        }
      },
      "execution_count": 71,
      "outputs": [
        {
          "output_type": "execute_result",
          "data": {
            "text/plain": [
              "{'AC/DC', 'Back in Black', 'NSYNC', 'Thriller'}"
            ]
          },
          "metadata": {},
          "execution_count": 71
        }
      ]
    },
    {
      "cell_type": "code",
      "source": [
        "A.remove(\"NSYNC\")\n",
        "A"
      ],
      "metadata": {
        "id": "EI8FvpYrx2rC",
        "outputId": "b9eb9748-4962-44cb-8832-8799c8b54597",
        "colab": {
          "base_uri": "https://localhost:8080/"
        }
      },
      "execution_count": 72,
      "outputs": [
        {
          "output_type": "execute_result",
          "data": {
            "text/plain": [
              "{'AC/DC', 'Back in Black', 'Thriller'}"
            ]
          },
          "metadata": {},
          "execution_count": 72
        }
      ]
    },
    {
      "cell_type": "code",
      "source": [
        "\"AC/DC\" in A"
      ],
      "metadata": {
        "id": "RF5BSoMTyMQp",
        "outputId": "3e226f89-3d0d-4a32-f4c5-ba29f26de6e0",
        "colab": {
          "base_uri": "https://localhost:8080/"
        }
      },
      "execution_count": 73,
      "outputs": [
        {
          "output_type": "execute_result",
          "data": {
            "text/plain": [
              "True"
            ]
          },
          "metadata": {},
          "execution_count": 73
        }
      ]
    },
    {
      "cell_type": "code",
      "source": [
        "\"who\" in A"
      ],
      "metadata": {
        "id": "Day1CU9Yyn48",
        "outputId": "acf86362-b6a3-455b-8051-91cb6a442c88",
        "colab": {
          "base_uri": "https://localhost:8080/"
        }
      },
      "execution_count": 74,
      "outputs": [
        {
          "output_type": "execute_result",
          "data": {
            "text/plain": [
              "False"
            ]
          },
          "metadata": {},
          "execution_count": 74
        }
      ]
    },
    {
      "cell_type": "code",
      "source": [
        "album_set_1={\"AC/DC\",\"Back in Black\", \"Thriller\"}\n",
        "album_set_2={\"AC/DC\",\"Back in Black\", \"The Dark side\"}\n",
        "album_set_3 = album_set_1 & album_set_2\n",
        "album_set_3"
      ],
      "metadata": {
        "id": "GS-oBm8hynuB",
        "outputId": "7fb23399-f4f2-4ba7-dcf8-77158f32d9da",
        "colab": {
          "base_uri": "https://localhost:8080/"
        }
      },
      "execution_count": 77,
      "outputs": [
        {
          "output_type": "execute_result",
          "data": {
            "text/plain": [
              "{'AC/DC', 'Back in Black'}"
            ]
          },
          "metadata": {},
          "execution_count": 77
        }
      ]
    },
    {
      "cell_type": "code",
      "source": [
        "album_set_1.union(album_set_2)\n"
      ],
      "metadata": {
        "id": "Cc7bYe0vyvxn",
        "outputId": "74ea5389-9c4c-4f07-9f41-c13aa7621ab4",
        "colab": {
          "base_uri": "https://localhost:8080/"
        }
      },
      "execution_count": 79,
      "outputs": [
        {
          "output_type": "execute_result",
          "data": {
            "text/plain": [
              "{'AC/DC', 'Back in Black', 'The Dark side', 'Thriller'}"
            ]
          },
          "metadata": {},
          "execution_count": 79
        }
      ]
    },
    {
      "cell_type": "code",
      "source": [
        "album_set_3.issubset(album_set_1)"
      ],
      "metadata": {
        "id": "S1bKMkVfyvpY",
        "outputId": "ed3cfbec-7499-46aa-e544-858f74747d2e",
        "colab": {
          "base_uri": "https://localhost:8080/"
        }
      },
      "execution_count": 80,
      "outputs": [
        {
          "output_type": "execute_result",
          "data": {
            "text/plain": [
              "True"
            ]
          },
          "metadata": {},
          "execution_count": 80
        }
      ]
    }
  ]
}