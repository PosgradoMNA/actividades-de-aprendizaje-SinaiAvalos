{
  "nbformat": 4,
  "nbformat_minor": 0,
  "metadata": {
    "colab": {
      "name": "assignment01.ipynb",
      "provenance": [],
      "include_colab_link": true
    },
    "kernelspec": {
      "name": "python3",
      "display_name": "Python 3"
    },
    "language_info": {
      "name": "python"
    }
  },
  "cells": [
    {
      "cell_type": "markdown",
      "metadata": {
        "id": "view-in-github",
        "colab_type": "text"
      },
      "source": [
        "<a href=\"https://colab.research.google.com/github/PosgradoMNA/actividades-de-aprendizaje-SinaiAvalos/blob/main/Actividad%20de%20semana%201%20-%202%3A%20Python%20for%20Data%20Science%20(IBM)/Modulo2/2_Modulo2_Notas.ipynb\" target=\"_parent\"><img src=\"https://colab.research.google.com/assets/colab-badge.svg\" alt=\"Open In Colab\"/></a>"
      ]
    },
    {
      "cell_type": "markdown",
      "source": [
        "**SINAI AVALOS RIVERA - A01730466**"
      ],
      "metadata": {
        "id": "TRStt_zL2kGn"
      }
    },
    {
      "cell_type": "markdown",
      "source": [
        "# **Lists and Tuples**\n",
        "\n",
        "---\n",
        "\n"
      ],
      "metadata": {
        "id": "3c7x4c60sg-9"
      }
    },
    {
      "cell_type": "markdown",
      "source": [
        "**TUPLES**"
      ],
      "metadata": {
        "id": "wzgn3ZE5s6Ae"
      }
    },
    {
      "cell_type": "code",
      "source": [
        "Ratings=(10,9,6,5,10,8,9,6,2)"
      ],
      "metadata": {
        "id": "JaLpb1j5qKh0"
      },
      "execution_count": null,
      "outputs": []
    },
    {
      "cell_type": "code",
      "source": [
        "type(Ratings)"
      ],
      "metadata": {
        "id": "03VecFjvqx4U",
        "outputId": "1cec09ab-9298-4477-ad7f-b691561c5276",
        "colab": {
          "base_uri": "https://localhost:8080/"
        }
      },
      "execution_count": null,
      "outputs": [
        {
          "output_type": "execute_result",
          "data": {
            "text/plain": [
              "tuple"
            ]
          },
          "metadata": {},
          "execution_count": 2
        }
      ]
    },
    {
      "cell_type": "code",
      "source": [
        "Tuple1=(\"disco\",10,1.2)"
      ],
      "metadata": {
        "id": "OOo2iFjZqx10"
      },
      "execution_count": null,
      "outputs": []
    },
    {
      "cell_type": "code",
      "source": [
        "Tuple1[1]"
      ],
      "metadata": {
        "id": "UJGNJRi-q5XE",
        "outputId": "5db994a7-2974-4090-d345-eb9035684e0b",
        "colab": {
          "base_uri": "https://localhost:8080/"
        }
      },
      "execution_count": null,
      "outputs": [
        {
          "output_type": "execute_result",
          "data": {
            "text/plain": [
              "10"
            ]
          },
          "metadata": {},
          "execution_count": 4
        }
      ]
    },
    {
      "cell_type": "code",
      "source": [
        "Tuple2 = Tuple1 + (\"hard rock\", 20)"
      ],
      "metadata": {
        "id": "geSW-zT_qxt8"
      },
      "execution_count": null,
      "outputs": []
    },
    {
      "cell_type": "code",
      "source": [
        "Tuple2[0:3]"
      ],
      "metadata": {
        "id": "U2c-tz4PqxnD",
        "outputId": "de928ccb-35e0-43b5-b244-68f6ab2824b8",
        "colab": {
          "base_uri": "https://localhost:8080/"
        }
      },
      "execution_count": null,
      "outputs": [
        {
          "output_type": "execute_result",
          "data": {
            "text/plain": [
              "('disco', 10, 1.2)"
            ]
          },
          "metadata": {},
          "execution_count": 6
        }
      ]
    },
    {
      "cell_type": "code",
      "source": [
        "Tuple2[3:5]"
      ],
      "metadata": {
        "id": "-F5GSHKpqxdM",
        "outputId": "564d3780-219b-4361-f30c-8fa9b0fc75d9",
        "colab": {
          "base_uri": "https://localhost:8080/"
        }
      },
      "execution_count": null,
      "outputs": [
        {
          "output_type": "execute_result",
          "data": {
            "text/plain": [
              "('hard rock', 20)"
            ]
          },
          "metadata": {},
          "execution_count": 7
        }
      ]
    },
    {
      "cell_type": "code",
      "source": [
        "len((\"disco\",10,1.2,\"hard rock\",10))"
      ],
      "metadata": {
        "id": "j5FR7x2lrj57",
        "outputId": "a1c1e56f-0921-4592-b329-4057c7859165",
        "colab": {
          "base_uri": "https://localhost:8080/"
        }
      },
      "execution_count": null,
      "outputs": [
        {
          "output_type": "execute_result",
          "data": {
            "text/plain": [
              "5"
            ]
          },
          "metadata": {},
          "execution_count": 8
        }
      ]
    },
    {
      "cell_type": "code",
      "source": [
        "Ratings1=Ratings\n",
        "Ratings1"
      ],
      "metadata": {
        "id": "0j3rXxCirj3c",
        "outputId": "37228886-fbb2-40e6-917b-d2f3e516a2d7",
        "colab": {
          "base_uri": "https://localhost:8080/"
        }
      },
      "execution_count": null,
      "outputs": [
        {
          "output_type": "execute_result",
          "data": {
            "text/plain": [
              "(10, 9, 6, 5, 10, 8, 9, 6, 2)"
            ]
          },
          "metadata": {},
          "execution_count": 9
        }
      ]
    },
    {
      "cell_type": "code",
      "source": [
        "RatingsSorted=sorted(Ratings)\n",
        "RatingsSorted"
      ],
      "metadata": {
        "id": "NrhdUCPArvwz",
        "outputId": "54616c9b-6f01-41cd-d090-fd552d8f5bc2",
        "colab": {
          "base_uri": "https://localhost:8080/"
        }
      },
      "execution_count": null,
      "outputs": [
        {
          "output_type": "execute_result",
          "data": {
            "text/plain": [
              "[2, 5, 6, 6, 8, 9, 9, 10, 10]"
            ]
          },
          "metadata": {},
          "execution_count": 10
        }
      ]
    },
    {
      "cell_type": "code",
      "source": [
        "# Nesting\n",
        "\n",
        "NT = (1,2,(\"pop\",\"rock\"),(3,4),(\"disco\",(1,2)))"
      ],
      "metadata": {
        "id": "wW8X3yYir85U"
      },
      "execution_count": null,
      "outputs": []
    },
    {
      "cell_type": "code",
      "source": [
        "NT[2]"
      ],
      "metadata": {
        "id": "3UnJM803r80k",
        "outputId": "14f8b12c-e0dc-43ba-c698-f678fe916880",
        "colab": {
          "base_uri": "https://localhost:8080/"
        }
      },
      "execution_count": null,
      "outputs": [
        {
          "output_type": "execute_result",
          "data": {
            "text/plain": [
              "('pop', 'rock')"
            ]
          },
          "metadata": {},
          "execution_count": 12
        }
      ]
    },
    {
      "cell_type": "code",
      "source": [
        "NT[2][1]"
      ],
      "metadata": {
        "id": "Y-X5fDtbrvtr",
        "outputId": "15082697-fa2a-41ad-cbf1-0a5eb5f37b21",
        "colab": {
          "base_uri": "https://localhost:8080/",
          "height": 36
        }
      },
      "execution_count": null,
      "outputs": [
        {
          "output_type": "execute_result",
          "data": {
            "text/plain": [
              "'rock'"
            ],
            "application/vnd.google.colaboratory.intrinsic+json": {
              "type": "string"
            }
          },
          "metadata": {},
          "execution_count": 13
        }
      ]
    },
    {
      "cell_type": "code",
      "source": [
        "NT[4][0]"
      ],
      "metadata": {
        "id": "EKfagNvWrj07",
        "outputId": "8586896f-b8c3-4255-bc66-635b8ddd8c95",
        "colab": {
          "base_uri": "https://localhost:8080/",
          "height": 36
        }
      },
      "execution_count": null,
      "outputs": [
        {
          "output_type": "execute_result",
          "data": {
            "text/plain": [
              "'disco'"
            ],
            "application/vnd.google.colaboratory.intrinsic+json": {
              "type": "string"
            }
          },
          "metadata": {},
          "execution_count": 14
        }
      ]
    },
    {
      "cell_type": "code",
      "source": [
        "type(NT[1])"
      ],
      "metadata": {
        "id": "zNCBK5cethVl",
        "outputId": "00b35c94-964a-43fc-ee66-c89abf159c82",
        "colab": {
          "base_uri": "https://localhost:8080/"
        }
      },
      "execution_count": null,
      "outputs": [
        {
          "output_type": "execute_result",
          "data": {
            "text/plain": [
              "int"
            ]
          },
          "metadata": {},
          "execution_count": 15
        }
      ]
    },
    {
      "cell_type": "code",
      "source": [
        "NT[4][0][2]"
      ],
      "metadata": {
        "id": "VaGYRoiGso03",
        "outputId": "82bb0f37-08c0-4549-ae98-e6eba7efc2b2",
        "colab": {
          "base_uri": "https://localhost:8080/",
          "height": 36
        }
      },
      "execution_count": null,
      "outputs": [
        {
          "output_type": "execute_result",
          "data": {
            "text/plain": [
              "'s'"
            ],
            "application/vnd.google.colaboratory.intrinsic+json": {
              "type": "string"
            }
          },
          "metadata": {},
          "execution_count": 16
        }
      ]
    },
    {
      "cell_type": "markdown",
      "source": [
        "**LISTS**"
      ],
      "metadata": {
        "id": "al3dMNOls9yD"
      }
    },
    {
      "cell_type": "code",
      "source": [
        "L =[\"Michael Jackson\", 10.1,1982, \"MJ\",1]"
      ],
      "metadata": {
        "id": "lMlylHVgsyYU"
      },
      "execution_count": null,
      "outputs": []
    },
    {
      "cell_type": "code",
      "source": [
        "L[0][2]"
      ],
      "metadata": {
        "id": "8qJ3LcLKtC5L",
        "outputId": "7c6895a8-25e5-4414-aa42-0ded4db189a9",
        "colab": {
          "base_uri": "https://localhost:8080/",
          "height": 36
        }
      },
      "execution_count": null,
      "outputs": [
        {
          "output_type": "execute_result",
          "data": {
            "text/plain": [
              "'c'"
            ],
            "application/vnd.google.colaboratory.intrinsic+json": {
              "type": "string"
            }
          },
          "metadata": {},
          "execution_count": 18
        }
      ]
    },
    {
      "cell_type": "code",
      "source": [
        "L[-1]"
      ],
      "metadata": {
        "id": "mCvRrs36syQy",
        "outputId": "7a4738aa-a85a-4834-f13c-df71384763b9",
        "colab": {
          "base_uri": "https://localhost:8080/"
        }
      },
      "execution_count": null,
      "outputs": [
        {
          "output_type": "execute_result",
          "data": {
            "text/plain": [
              "1"
            ]
          },
          "metadata": {},
          "execution_count": 19
        }
      ]
    },
    {
      "cell_type": "code",
      "source": [
        "L[3:5]"
      ],
      "metadata": {
        "id": "n0JSzjOasVkD",
        "outputId": "b643ca5c-b8f2-483b-893e-e65a699029f6",
        "colab": {
          "base_uri": "https://localhost:8080/"
        }
      },
      "execution_count": null,
      "outputs": [
        {
          "output_type": "execute_result",
          "data": {
            "text/plain": [
              "['MJ', 1]"
            ]
          },
          "metadata": {},
          "execution_count": 20
        }
      ]
    },
    {
      "cell_type": "code",
      "source": [
        "L1 = L+[\"pop\",10]\n",
        "L1"
      ],
      "metadata": {
        "id": "tm7f22CMtxEH",
        "outputId": "fb809047-bbff-49b5-f6d3-a6d03e140904",
        "colab": {
          "base_uri": "https://localhost:8080/"
        }
      },
      "execution_count": null,
      "outputs": [
        {
          "output_type": "execute_result",
          "data": {
            "text/plain": [
              "['Michael Jackson', 10.1, 1982, 'MJ', 1, 'pop', 10]"
            ]
          },
          "metadata": {},
          "execution_count": 21
        }
      ]
    },
    {
      "cell_type": "code",
      "source": [
        "L.extend([\"pop\",10])\n",
        "L"
      ],
      "metadata": {
        "id": "HVNirDZSt7Rk",
        "outputId": "961dbebf-2cd1-42ba-ac01-aa05be4dac77",
        "colab": {
          "base_uri": "https://localhost:8080/"
        }
      },
      "execution_count": null,
      "outputs": [
        {
          "output_type": "execute_result",
          "data": {
            "text/plain": [
              "['Michael Jackson', 10.1, 1982, 'MJ', 1, 'pop', 10]"
            ]
          },
          "metadata": {},
          "execution_count": 22
        }
      ]
    },
    {
      "cell_type": "code",
      "source": [
        "L =[\"Michael Jackson\", 10.1,1982]\n",
        "L.append([\"pop\",10])\n",
        "L"
      ],
      "metadata": {
        "id": "zbc9sC7isVhj",
        "outputId": "0c69d0f4-5342-4a6d-b588-32b43365571c",
        "colab": {
          "base_uri": "https://localhost:8080/"
        }
      },
      "execution_count": null,
      "outputs": [
        {
          "output_type": "execute_result",
          "data": {
            "text/plain": [
              "['Michael Jackson', 10.1, 1982, ['pop', 10]]"
            ]
          },
          "metadata": {},
          "execution_count": 23
        }
      ]
    },
    {
      "cell_type": "code",
      "source": [
        "A=[\"disco\",10,1.2]\n",
        "A[0]=\"hard rock\"\n",
        "A"
      ],
      "metadata": {
        "id": "Ezbm7RfSsVeM",
        "outputId": "c3c180f2-dbe9-4cc5-858c-e124ae5639f5",
        "colab": {
          "base_uri": "https://localhost:8080/"
        }
      },
      "execution_count": null,
      "outputs": [
        {
          "output_type": "execute_result",
          "data": {
            "text/plain": [
              "['hard rock', 10, 1.2]"
            ]
          },
          "metadata": {},
          "execution_count": 24
        }
      ]
    },
    {
      "cell_type": "code",
      "source": [
        "del(A[1])\n",
        "A"
      ],
      "metadata": {
        "id": "-fQ0CcoNrjrM",
        "outputId": "a3fb3b72-46d9-4b35-e6c5-8b4f5fe248b0",
        "colab": {
          "base_uri": "https://localhost:8080/"
        }
      },
      "execution_count": null,
      "outputs": [
        {
          "output_type": "execute_result",
          "data": {
            "text/plain": [
              "['hard rock', 1.2]"
            ]
          },
          "metadata": {},
          "execution_count": 25
        }
      ]
    },
    {
      "cell_type": "code",
      "source": [
        "\"hard rock\".split()"
      ],
      "metadata": {
        "id": "6_FuCcHmvWWT",
        "outputId": "40038c80-c399-43f5-a18b-9999a493bee9",
        "colab": {
          "base_uri": "https://localhost:8080/"
        }
      },
      "execution_count": null,
      "outputs": [
        {
          "output_type": "execute_result",
          "data": {
            "text/plain": [
              "['hard', 'rock']"
            ]
          },
          "metadata": {},
          "execution_count": 26
        }
      ]
    },
    {
      "cell_type": "code",
      "source": [
        "\"A,B,C,D\".split(\",\")"
      ],
      "metadata": {
        "id": "xtyIUUnCvbbw",
        "outputId": "cc7bca29-41a6-42a3-f9e1-e71cdd4c24d4",
        "colab": {
          "base_uri": "https://localhost:8080/"
        }
      },
      "execution_count": null,
      "outputs": [
        {
          "output_type": "execute_result",
          "data": {
            "text/plain": [
              "['A', 'B', 'C', 'D']"
            ]
          },
          "metadata": {},
          "execution_count": 27
        }
      ]
    },
    {
      "cell_type": "code",
      "source": [
        "#Aliasing: multiple names referring to the same object\n",
        "\n",
        "A=[\"hard rock\",10,1.2]\n",
        "B=A"
      ],
      "metadata": {
        "id": "XuQWcJqxvgS7"
      },
      "execution_count": null,
      "outputs": []
    },
    {
      "cell_type": "code",
      "source": [
        "A[0]=\"banana\"\n",
        "B[0]"
      ],
      "metadata": {
        "id": "cEOF7rg4viDW",
        "outputId": "5764b9fc-579a-4cc3-b6b9-8ac5f0e7cf5f",
        "colab": {
          "base_uri": "https://localhost:8080/",
          "height": 36
        }
      },
      "execution_count": null,
      "outputs": [
        {
          "output_type": "execute_result",
          "data": {
            "text/plain": [
              "'banana'"
            ],
            "application/vnd.google.colaboratory.intrinsic+json": {
              "type": "string"
            }
          },
          "metadata": {},
          "execution_count": 29
        }
      ]
    },
    {
      "cell_type": "code",
      "source": [
        "#CLONE LIST, IF YOU CHANGE A, B WILL NOT CHANGE\n",
        "B=A[:]\n",
        "B"
      ],
      "metadata": {
        "id": "GObmqr7zvhRX",
        "outputId": "52e65110-a7ad-4be9-c309-d9a8114a2bd3",
        "colab": {
          "base_uri": "https://localhost:8080/"
        }
      },
      "execution_count": null,
      "outputs": [
        {
          "output_type": "execute_result",
          "data": {
            "text/plain": [
              "['banana', 10, 1.2]"
            ]
          },
          "metadata": {},
          "execution_count": 30
        }
      ]
    },
    {
      "cell_type": "code",
      "source": [
        "help(A)"
      ],
      "metadata": {
        "id": "HgGnDfDtwWbm",
        "outputId": "1b73f437-b5f1-43d5-9620-6991e13112ef",
        "colab": {
          "base_uri": "https://localhost:8080/"
        }
      },
      "execution_count": null,
      "outputs": [
        {
          "output_type": "stream",
          "name": "stdout",
          "text": [
            "Help on list object:\n",
            "\n",
            "class list(object)\n",
            " |  list(iterable=(), /)\n",
            " |  \n",
            " |  Built-in mutable sequence.\n",
            " |  \n",
            " |  If no argument is given, the constructor creates a new empty list.\n",
            " |  The argument must be an iterable if specified.\n",
            " |  \n",
            " |  Methods defined here:\n",
            " |  \n",
            " |  __add__(self, value, /)\n",
            " |      Return self+value.\n",
            " |  \n",
            " |  __contains__(self, key, /)\n",
            " |      Return key in self.\n",
            " |  \n",
            " |  __delitem__(self, key, /)\n",
            " |      Delete self[key].\n",
            " |  \n",
            " |  __eq__(self, value, /)\n",
            " |      Return self==value.\n",
            " |  \n",
            " |  __ge__(self, value, /)\n",
            " |      Return self>=value.\n",
            " |  \n",
            " |  __getattribute__(self, name, /)\n",
            " |      Return getattr(self, name).\n",
            " |  \n",
            " |  __getitem__(...)\n",
            " |      x.__getitem__(y) <==> x[y]\n",
            " |  \n",
            " |  __gt__(self, value, /)\n",
            " |      Return self>value.\n",
            " |  \n",
            " |  __iadd__(self, value, /)\n",
            " |      Implement self+=value.\n",
            " |  \n",
            " |  __imul__(self, value, /)\n",
            " |      Implement self*=value.\n",
            " |  \n",
            " |  __init__(self, /, *args, **kwargs)\n",
            " |      Initialize self.  See help(type(self)) for accurate signature.\n",
            " |  \n",
            " |  __iter__(self, /)\n",
            " |      Implement iter(self).\n",
            " |  \n",
            " |  __le__(self, value, /)\n",
            " |      Return self<=value.\n",
            " |  \n",
            " |  __len__(self, /)\n",
            " |      Return len(self).\n",
            " |  \n",
            " |  __lt__(self, value, /)\n",
            " |      Return self<value.\n",
            " |  \n",
            " |  __mul__(self, value, /)\n",
            " |      Return self*value.\n",
            " |  \n",
            " |  __ne__(self, value, /)\n",
            " |      Return self!=value.\n",
            " |  \n",
            " |  __repr__(self, /)\n",
            " |      Return repr(self).\n",
            " |  \n",
            " |  __reversed__(self, /)\n",
            " |      Return a reverse iterator over the list.\n",
            " |  \n",
            " |  __rmul__(self, value, /)\n",
            " |      Return value*self.\n",
            " |  \n",
            " |  __setitem__(self, key, value, /)\n",
            " |      Set self[key] to value.\n",
            " |  \n",
            " |  __sizeof__(self, /)\n",
            " |      Return the size of the list in memory, in bytes.\n",
            " |  \n",
            " |  append(self, object, /)\n",
            " |      Append object to the end of the list.\n",
            " |  \n",
            " |  clear(self, /)\n",
            " |      Remove all items from list.\n",
            " |  \n",
            " |  copy(self, /)\n",
            " |      Return a shallow copy of the list.\n",
            " |  \n",
            " |  count(self, value, /)\n",
            " |      Return number of occurrences of value.\n",
            " |  \n",
            " |  extend(self, iterable, /)\n",
            " |      Extend list by appending elements from the iterable.\n",
            " |  \n",
            " |  index(self, value, start=0, stop=9223372036854775807, /)\n",
            " |      Return first index of value.\n",
            " |      \n",
            " |      Raises ValueError if the value is not present.\n",
            " |  \n",
            " |  insert(self, index, object, /)\n",
            " |      Insert object before index.\n",
            " |  \n",
            " |  pop(self, index=-1, /)\n",
            " |      Remove and return item at index (default last).\n",
            " |      \n",
            " |      Raises IndexError if list is empty or index is out of range.\n",
            " |  \n",
            " |  remove(self, value, /)\n",
            " |      Remove first occurrence of value.\n",
            " |      \n",
            " |      Raises ValueError if the value is not present.\n",
            " |  \n",
            " |  reverse(self, /)\n",
            " |      Reverse *IN PLACE*.\n",
            " |  \n",
            " |  sort(self, /, *, key=None, reverse=False)\n",
            " |      Stable sort *IN PLACE*.\n",
            " |  \n",
            " |  ----------------------------------------------------------------------\n",
            " |  Static methods defined here:\n",
            " |  \n",
            " |  __new__(*args, **kwargs) from builtins.type\n",
            " |      Create and return a new object.  See help(type) for accurate signature.\n",
            " |  \n",
            " |  ----------------------------------------------------------------------\n",
            " |  Data and other attributes defined here:\n",
            " |  \n",
            " |  __hash__ = None\n",
            "\n"
          ]
        }
      ]
    },
    {
      "cell_type": "code",
      "source": [
        "len(A)"
      ],
      "metadata": {
        "id": "QbzF3ZxcwpQy",
        "outputId": "7fa7cc3c-1e35-4e80-803a-3392bf8a25ac",
        "colab": {
          "base_uri": "https://localhost:8080/"
        }
      },
      "execution_count": null,
      "outputs": [
        {
          "output_type": "execute_result",
          "data": {
            "text/plain": [
              "3"
            ]
          },
          "metadata": {},
          "execution_count": 32
        }
      ]
    },
    {
      "cell_type": "markdown",
      "source": [
        "# **SETS**"
      ],
      "metadata": {
        "id": "I5B7GgVjxXsa"
      }
    },
    {
      "cell_type": "code",
      "execution_count": null,
      "metadata": {
        "id": "LzUSMM79NR9P",
        "outputId": "83ecfdf5-7ffb-4ac9-8d3a-f5ccab298aea",
        "colab": {
          "base_uri": "https://localhost:8080/"
        }
      },
      "outputs": [
        {
          "output_type": "execute_result",
          "data": {
            "text/plain": [
              "{'R&B', 'disco', 'hard rock', 'pop', 'rock', 'soul'}"
            ]
          },
          "metadata": {},
          "execution_count": 33
        }
      ],
      "source": [
        "Set1={\"pop\",\"rock\",\"soul\",\"hard rock\",\"rock\",\"R&B\",\"rock\",\"disco\"}\n",
        "Set1"
      ]
    },
    {
      "cell_type": "code",
      "source": [
        "album_list=[\"Michael Jackson\",\"Thriller\",\"Thriller\",1982]"
      ],
      "metadata": {
        "id": "mxM_WppZPMFx"
      },
      "execution_count": null,
      "outputs": []
    },
    {
      "cell_type": "code",
      "source": [
        "album_set=set(album_list)\n",
        "album_set"
      ],
      "metadata": {
        "id": "fSlwIlAix226",
        "outputId": "0b7fb66c-7700-4ee6-8f54-21513da963ee",
        "colab": {
          "base_uri": "https://localhost:8080/"
        }
      },
      "execution_count": null,
      "outputs": [
        {
          "output_type": "execute_result",
          "data": {
            "text/plain": [
              "{1982, 'Michael Jackson', 'Thriller'}"
            ]
          },
          "metadata": {},
          "execution_count": 35
        }
      ]
    },
    {
      "cell_type": "markdown",
      "source": [
        "**SET OPERATIONS**"
      ],
      "metadata": {
        "id": "QGsoLQOByJlh"
      }
    },
    {
      "cell_type": "code",
      "source": [
        "A={\"Thriller\",\"Back in Black\", \"AC/DC\"}\n",
        "A.add(\"NSYNC\")\n",
        "A"
      ],
      "metadata": {
        "id": "bdpNhhFpx2uC",
        "outputId": "264af97c-3835-490a-a962-be0866417b58",
        "colab": {
          "base_uri": "https://localhost:8080/"
        }
      },
      "execution_count": null,
      "outputs": [
        {
          "output_type": "execute_result",
          "data": {
            "text/plain": [
              "{'AC/DC', 'Back in Black', 'NSYNC', 'Thriller'}"
            ]
          },
          "metadata": {},
          "execution_count": 36
        }
      ]
    },
    {
      "cell_type": "code",
      "source": [
        "A.remove(\"NSYNC\")\n",
        "A"
      ],
      "metadata": {
        "id": "EI8FvpYrx2rC",
        "outputId": "d1a6ceed-f4b8-4a58-89ac-6cafa12ed229",
        "colab": {
          "base_uri": "https://localhost:8080/"
        }
      },
      "execution_count": null,
      "outputs": [
        {
          "output_type": "execute_result",
          "data": {
            "text/plain": [
              "{'AC/DC', 'Back in Black', 'Thriller'}"
            ]
          },
          "metadata": {},
          "execution_count": 37
        }
      ]
    },
    {
      "cell_type": "code",
      "source": [
        "\"AC/DC\" in A"
      ],
      "metadata": {
        "id": "RF5BSoMTyMQp",
        "outputId": "e10dbe8b-fc1a-4915-9ede-a8678bb5a861",
        "colab": {
          "base_uri": "https://localhost:8080/"
        }
      },
      "execution_count": null,
      "outputs": [
        {
          "output_type": "execute_result",
          "data": {
            "text/plain": [
              "True"
            ]
          },
          "metadata": {},
          "execution_count": 38
        }
      ]
    },
    {
      "cell_type": "code",
      "source": [
        "\"who\" in A"
      ],
      "metadata": {
        "id": "Day1CU9Yyn48",
        "outputId": "c47f3f87-3eb9-481f-91a2-2f13e42ef659",
        "colab": {
          "base_uri": "https://localhost:8080/"
        }
      },
      "execution_count": null,
      "outputs": [
        {
          "output_type": "execute_result",
          "data": {
            "text/plain": [
              "False"
            ]
          },
          "metadata": {},
          "execution_count": 39
        }
      ]
    },
    {
      "cell_type": "code",
      "source": [
        "album_set_1={\"AC/DC\",\"Back in Black\", \"Thriller\"}\n",
        "album_set_2={\"AC/DC\",\"Back in Black\", \"The Dark side\"}\n",
        "album_set_3 = album_set_1 & album_set_2\n",
        "album_set_3"
      ],
      "metadata": {
        "id": "GS-oBm8hynuB",
        "outputId": "f2122582-c308-4f4d-9d63-e8381cb3099b",
        "colab": {
          "base_uri": "https://localhost:8080/"
        }
      },
      "execution_count": null,
      "outputs": [
        {
          "output_type": "execute_result",
          "data": {
            "text/plain": [
              "{'AC/DC', 'Back in Black'}"
            ]
          },
          "metadata": {},
          "execution_count": 40
        }
      ]
    },
    {
      "cell_type": "code",
      "source": [
        "album_set_1.union(album_set_2)\n"
      ],
      "metadata": {
        "id": "Cc7bYe0vyvxn",
        "outputId": "aacfe290-2ca2-4937-abbe-e213fa7b403c",
        "colab": {
          "base_uri": "https://localhost:8080/"
        }
      },
      "execution_count": null,
      "outputs": [
        {
          "output_type": "execute_result",
          "data": {
            "text/plain": [
              "{'AC/DC', 'Back in Black', 'The Dark side', 'Thriller'}"
            ]
          },
          "metadata": {},
          "execution_count": 41
        }
      ]
    },
    {
      "cell_type": "code",
      "source": [
        "album_set_3.issubset(album_set_1)"
      ],
      "metadata": {
        "id": "S1bKMkVfyvpY",
        "outputId": "fe6ac7ef-0278-48d1-d354-ea2d512a95c4",
        "colab": {
          "base_uri": "https://localhost:8080/"
        }
      },
      "execution_count": null,
      "outputs": [
        {
          "output_type": "execute_result",
          "data": {
            "text/plain": [
              "True"
            ]
          },
          "metadata": {},
          "execution_count": 42
        }
      ]
    },
    {
      "cell_type": "markdown",
      "source": [
        "# **Dictionaries**"
      ],
      "metadata": {
        "id": "rpHDJrUK0N5q"
      }
    },
    {
      "cell_type": "code",
      "execution_count": null,
      "metadata": {
        "outputId": "f270279d-4510-4193-c291-3fc67c1c0426",
        "colab": {
          "base_uri": "https://localhost:8080/"
        },
        "id": "2Mp6n-S8zjkJ"
      },
      "outputs": [
        {
          "output_type": "execute_result",
          "data": {
            "text/plain": [
              "{'Thriller': 1982, 'Back in Black': 1980, 'The Dark side of the Moon': 1973}"
            ]
          },
          "metadata": {},
          "execution_count": 43
        }
      ],
      "source": [
        "#Dictionaries are a type of collection and has keys and values\n",
        "\n",
        "{\"Thriller\":1982,\"Back in Black\":1980,\"The Dark side of the Moon\":1973}"
      ]
    },
    {
      "cell_type": "code",
      "source": [
        "DICT={'Thriller': 1982, 'Back in Black': 1980, 'The Dark side of the Moon': 1973}"
      ],
      "metadata": {
        "id": "VFDQzYCX0SK5"
      },
      "execution_count": null,
      "outputs": []
    },
    {
      "cell_type": "code",
      "source": [
        "DICT[\"Back in Black\"]"
      ],
      "metadata": {
        "id": "M0Scd0G-0SH6",
        "outputId": "877e07b7-2119-4daf-819d-2061400a360d",
        "colab": {
          "base_uri": "https://localhost:8080/"
        }
      },
      "execution_count": null,
      "outputs": [
        {
          "output_type": "execute_result",
          "data": {
            "text/plain": [
              "1980"
            ]
          },
          "metadata": {},
          "execution_count": 45
        }
      ]
    },
    {
      "cell_type": "code",
      "source": [
        "DICT[\"Graduation\"]='2007'"
      ],
      "metadata": {
        "id": "5PvCXH6Q0SBx"
      },
      "execution_count": null,
      "outputs": []
    },
    {
      "cell_type": "code",
      "source": [
        "DICT"
      ],
      "metadata": {
        "id": "mJm9RWM80R9J",
        "outputId": "8da949b7-3183-456f-f6d0-77b27a2dec04",
        "colab": {
          "base_uri": "https://localhost:8080/"
        }
      },
      "execution_count": null,
      "outputs": [
        {
          "output_type": "execute_result",
          "data": {
            "text/plain": [
              "{'Thriller': 1982,\n",
              " 'Back in Black': 1980,\n",
              " 'The Dark side of the Moon': 1973,\n",
              " 'Graduation': '2007'}"
            ]
          },
          "metadata": {},
          "execution_count": 47
        }
      ]
    },
    {
      "cell_type": "code",
      "source": [
        "del(DICT['Thriller'])"
      ],
      "metadata": {
        "id": "QmkvdS4l0R6Z"
      },
      "execution_count": null,
      "outputs": []
    },
    {
      "cell_type": "code",
      "source": [
        "DICT"
      ],
      "metadata": {
        "outputId": "613bb468-4a11-44d6-d6c0-181a754f5491",
        "colab": {
          "base_uri": "https://localhost:8080/"
        },
        "id": "L4Vag8bjzjkK"
      },
      "execution_count": null,
      "outputs": [
        {
          "output_type": "execute_result",
          "data": {
            "text/plain": [
              "{'Back in Black': 1980,\n",
              " 'The Dark side of the Moon': 1973,\n",
              " 'Graduation': '2007'}"
            ]
          },
          "metadata": {},
          "execution_count": 49
        }
      ]
    },
    {
      "cell_type": "code",
      "source": [
        "\"Graduation\" in DICT"
      ],
      "metadata": {
        "id": "ZC34gfUh1n4h",
        "outputId": "b4c3d767-aaf2-4175-821d-6f2523bfa925",
        "colab": {
          "base_uri": "https://localhost:8080/"
        }
      },
      "execution_count": null,
      "outputs": [
        {
          "output_type": "execute_result",
          "data": {
            "text/plain": [
              "True"
            ]
          },
          "metadata": {},
          "execution_count": 50
        }
      ]
    },
    {
      "cell_type": "code",
      "source": [
        "\"Graduation1\" in DICT"
      ],
      "metadata": {
        "id": "MLUn0EHt1sLV",
        "outputId": "d0a3a21d-008a-4eca-a736-2146c87f9ea0",
        "colab": {
          "base_uri": "https://localhost:8080/"
        }
      },
      "execution_count": null,
      "outputs": [
        {
          "output_type": "execute_result",
          "data": {
            "text/plain": [
              "False"
            ]
          },
          "metadata": {},
          "execution_count": 51
        }
      ]
    },
    {
      "cell_type": "code",
      "source": [
        "DICT.keys()"
      ],
      "metadata": {
        "id": "nFmgi8cu1t1n",
        "outputId": "d18cf1a7-6539-4ccf-86bf-4b11ef3d7ed3",
        "colab": {
          "base_uri": "https://localhost:8080/"
        }
      },
      "execution_count": null,
      "outputs": [
        {
          "output_type": "execute_result",
          "data": {
            "text/plain": [
              "dict_keys(['Back in Black', 'The Dark side of the Moon', 'Graduation'])"
            ]
          },
          "metadata": {},
          "execution_count": 52
        }
      ]
    },
    {
      "cell_type": "code",
      "source": [
        "DICT.values()"
      ],
      "metadata": {
        "id": "Ic-iwFo-1zXK",
        "outputId": "65d08db8-4e98-4fef-a416-583518bbf5a3",
        "colab": {
          "base_uri": "https://localhost:8080/"
        }
      },
      "execution_count": null,
      "outputs": [
        {
          "output_type": "execute_result",
          "data": {
            "text/plain": [
              "dict_values([1980, 1973, '2007'])"
            ]
          },
          "metadata": {},
          "execution_count": 53
        }
      ]
    },
    {
      "cell_type": "markdown",
      "source": [
        "**Questions**"
      ],
      "metadata": {
        "id": "FH6TBgNB15kw"
      }
    },
    {
      "cell_type": "code",
      "source": [
        "D = {'a':0,'b':1,'c':2}\n",
        "D.values"
      ],
      "metadata": {
        "id": "Nw3X33T211Ut",
        "outputId": "c2811c8d-caf5-4040-e520-809625af0baf",
        "colab": {
          "base_uri": "https://localhost:8080/"
        }
      },
      "execution_count": null,
      "outputs": [
        {
          "output_type": "execute_result",
          "data": {
            "text/plain": [
              "<function dict.values>"
            ]
          },
          "metadata": {},
          "execution_count": 54
        }
      ]
    },
    {
      "cell_type": "code",
      "source": [
        "D['b']"
      ],
      "metadata": {
        "id": "5yQqpbyW15U5",
        "outputId": "264a63d5-ea35-44cb-a988-8c602ce6598f",
        "colab": {
          "base_uri": "https://localhost:8080/"
        }
      },
      "execution_count": null,
      "outputs": [
        {
          "output_type": "execute_result",
          "data": {
            "text/plain": [
              "1"
            ]
          },
          "metadata": {},
          "execution_count": 55
        }
      ]
    }
  ]
}