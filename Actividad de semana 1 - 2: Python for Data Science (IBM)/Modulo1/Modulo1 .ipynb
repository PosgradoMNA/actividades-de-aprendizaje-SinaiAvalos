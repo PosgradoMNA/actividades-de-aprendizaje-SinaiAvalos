{
  "nbformat": 4,
  "nbformat_minor": 0,
  "metadata": {
    "colab": {
      "name": "assignment01.ipynb",
      "provenance": [],
      "include_colab_link": true
    },
    "kernelspec": {
      "name": "python3",
      "display_name": "Python 3"
    },
    "language_info": {
      "name": "python"
    }
  },
  "cells": [
    {
      "cell_type": "markdown",
      "metadata": {
        "id": "view-in-github",
        "colab_type": "text"
      },
      "source": [
        "<a href=\"https://colab.research.google.com/github/PosgradoMNA/actividades-de-aprendizaje-SinaiAvalos/blob/main/Actividad%20de%20semana%201%20-%202%3A%20Python%20for%20Data%20Science%20(IBM)/Modulo1/Modulo1%20.ipynb\" target=\"_parent\"><img src=\"https://colab.research.google.com/assets/colab-badge.svg\" alt=\"Open In Colab\"/></a>"
      ]
    },
    {
      "cell_type": "markdown",
      "source": [
        "***SINAÍ AVALOS RIVERA - A01730466***"
      ],
      "metadata": {
        "id": "j4222FO8xTMR"
      }
    },
    {
      "cell_type": "markdown",
      "source": [
        "## **Módulo 1**"
      ],
      "metadata": {
        "id": "dbIU62IpxMZQ"
      }
    },
    {
      "cell_type": "markdown",
      "source": [
        "**1.1 Your First Program**"
      ],
      "metadata": {
        "id": "8b-ddJaexSq3"
      }
    },
    {
      "cell_type": "code",
      "execution_count": 2,
      "metadata": {
        "id": "LzUSMM79NR9P",
        "outputId": "61ae1e9b-53cb-4136-bff2-0964c363c7d0",
        "colab": {
          "base_uri": "https://localhost:8080/"
        }
      },
      "outputs": [
        {
          "output_type": "stream",
          "name": "stdout",
          "text": [
            "Hello\n",
            "World\n"
          ]
        }
      ],
      "source": [
        "print('Hello\\nWorld')"
      ]
    },
    {
      "cell_type": "code",
      "source": [
        "# print('Hello')"
      ],
      "metadata": {
        "id": "mxM_WppZPMFx"
      },
      "execution_count": 3,
      "outputs": []
    },
    {
      "cell_type": "markdown",
      "source": [
        "**1.2_Types**"
      ],
      "metadata": {
        "id": "IRKnKEFJxlg4"
      }
    },
    {
      "cell_type": "code",
      "execution_count": 4,
      "metadata": {
        "outputId": "ab27185c-5528-42dd-a784-2d2579a4af72",
        "colab": {
          "base_uri": "https://localhost:8080/"
        },
        "id": "x_DNmivkxq5F"
      },
      "outputs": [
        {
          "output_type": "execute_result",
          "data": {
            "text/plain": [
              "1"
            ]
          },
          "metadata": {},
          "execution_count": 4
        }
      ],
      "source": [
        "int(1.0)"
      ]
    },
    {
      "cell_type": "code",
      "source": [
        "bool(1)"
      ],
      "metadata": {
        "colab": {
          "base_uri": "https://localhost:8080/"
        },
        "outputId": "3abe2687-3f50-4a71-e7e3-96108168e043",
        "id": "OATvz3Zhxq5L"
      },
      "execution_count": 5,
      "outputs": [
        {
          "output_type": "execute_result",
          "data": {
            "text/plain": [
              "True"
            ]
          },
          "metadata": {},
          "execution_count": 5
        }
      ]
    },
    {
      "cell_type": "code",
      "source": [
        "float(2)"
      ],
      "metadata": {
        "colab": {
          "base_uri": "https://localhost:8080/"
        },
        "id": "kwyxSxLlrjj3",
        "outputId": "d6b63fab-e881-44ba-dea2-bcef335d91a6"
      },
      "execution_count": 6,
      "outputs": [
        {
          "output_type": "execute_result",
          "data": {
            "text/plain": [
              "2.0"
            ]
          },
          "metadata": {},
          "execution_count": 6
        }
      ]
    },
    {
      "cell_type": "code",
      "source": [
        "int(1.1)"
      ],
      "metadata": {
        "colab": {
          "base_uri": "https://localhost:8080/"
        },
        "id": "na5TLVP7rnCW",
        "outputId": "eec8c2e5-d996-4cc0-adba-623143d50917"
      },
      "execution_count": 7,
      "outputs": [
        {
          "output_type": "execute_result",
          "data": {
            "text/plain": [
              "1"
            ]
          },
          "metadata": {},
          "execution_count": 7
        }
      ]
    },
    {
      "cell_type": "code",
      "source": [
        "int('1')"
      ],
      "metadata": {
        "colab": {
          "base_uri": "https://localhost:8080/"
        },
        "id": "mCCIGVdNrzOa",
        "outputId": "033fbda8-cc77-48e0-82d0-d675980cd361"
      },
      "execution_count": 8,
      "outputs": [
        {
          "output_type": "execute_result",
          "data": {
            "text/plain": [
              "1"
            ]
          },
          "metadata": {},
          "execution_count": 8
        }
      ]
    },
    {
      "cell_type": "code",
      "source": [
        "int(True)"
      ],
      "metadata": {
        "colab": {
          "base_uri": "https://localhost:8080/"
        },
        "id": "j7mRjR0Hr4_q",
        "outputId": "0b2e0f24-d647-492c-91b5-b824387366e3"
      },
      "execution_count": 9,
      "outputs": [
        {
          "output_type": "execute_result",
          "data": {
            "text/plain": [
              "1"
            ]
          },
          "metadata": {},
          "execution_count": 9
        }
      ]
    },
    {
      "cell_type": "code",
      "source": [
        "type(True)"
      ],
      "metadata": {
        "colab": {
          "base_uri": "https://localhost:8080/"
        },
        "id": "YpFExRYpsA-9",
        "outputId": "09fa21ed-0212-4289-ad26-78cbba7d1381"
      },
      "execution_count": 10,
      "outputs": [
        {
          "output_type": "execute_result",
          "data": {
            "text/plain": [
              "bool"
            ]
          },
          "metadata": {},
          "execution_count": 10
        }
      ]
    },
    {
      "cell_type": "code",
      "source": [
        "type(1.1)"
      ],
      "metadata": {
        "colab": {
          "base_uri": "https://localhost:8080/"
        },
        "id": "fdO4lq00sEm9",
        "outputId": "51503b5d-1533-4f27-f459-ed689c89c208"
      },
      "execution_count": 11,
      "outputs": [
        {
          "output_type": "execute_result",
          "data": {
            "text/plain": [
              "float"
            ]
          },
          "metadata": {},
          "execution_count": 11
        }
      ]
    },
    {
      "cell_type": "code",
      "source": [
        "bool(0)"
      ],
      "metadata": {
        "colab": {
          "base_uri": "https://localhost:8080/"
        },
        "id": "fAIlWXpOsG2W",
        "outputId": "c7f1f12d-507e-49d9-8d12-c90076ad2bfd"
      },
      "execution_count": 12,
      "outputs": [
        {
          "output_type": "execute_result",
          "data": {
            "text/plain": [
              "False"
            ]
          },
          "metadata": {},
          "execution_count": 12
        }
      ]
    },
    {
      "cell_type": "markdown",
      "source": [
        "**1.3_Expressions and Variables**"
      ],
      "metadata": {
        "id": "hjTmw851xvc5"
      }
    },
    {
      "cell_type": "code",
      "execution_count": 13,
      "metadata": {
        "outputId": "3b4faa20-f75d-4541-d528-00693c008898",
        "colab": {
          "base_uri": "https://localhost:8080/"
        },
        "id": "FKM1iLEvx62Y"
      },
      "outputs": [
        {
          "output_type": "execute_result",
          "data": {
            "text/plain": [
              "160"
            ]
          },
          "metadata": {},
          "execution_count": 13
        }
      ],
      "source": [
        "43+60+16+41"
      ]
    },
    {
      "cell_type": "code",
      "source": [
        "50-60"
      ],
      "metadata": {
        "outputId": "c3dbefc5-a5a6-42f7-813b-f6d5c5d9486c",
        "colab": {
          "base_uri": "https://localhost:8080/"
        },
        "id": "ELPy1PT2x62Y"
      },
      "execution_count": 14,
      "outputs": [
        {
          "output_type": "execute_result",
          "data": {
            "text/plain": [
              "-10"
            ]
          },
          "metadata": {},
          "execution_count": 14
        }
      ]
    },
    {
      "cell_type": "code",
      "source": [
        "5*5"
      ],
      "metadata": {
        "id": "Ai9485bovDsP",
        "outputId": "82baff1e-e29b-48e2-895b-d28211f535d1",
        "colab": {
          "base_uri": "https://localhost:8080/"
        }
      },
      "execution_count": 15,
      "outputs": [
        {
          "output_type": "execute_result",
          "data": {
            "text/plain": [
              "25"
            ]
          },
          "metadata": {},
          "execution_count": 15
        }
      ]
    },
    {
      "cell_type": "code",
      "source": [
        "25/5"
      ],
      "metadata": {
        "id": "WyGQpsCwvFrG",
        "outputId": "cd679815-877c-4466-d274-ef85003344fe",
        "colab": {
          "base_uri": "https://localhost:8080/"
        }
      },
      "execution_count": 16,
      "outputs": [
        {
          "output_type": "execute_result",
          "data": {
            "text/plain": [
              "5.0"
            ]
          },
          "metadata": {},
          "execution_count": 16
        }
      ]
    },
    {
      "cell_type": "code",
      "source": [
        "25/6"
      ],
      "metadata": {
        "id": "3rbOfFJavHpe",
        "outputId": "b5761e69-f9ee-4b44-b763-df66f3220b06",
        "colab": {
          "base_uri": "https://localhost:8080/"
        }
      },
      "execution_count": 17,
      "outputs": [
        {
          "output_type": "execute_result",
          "data": {
            "text/plain": [
              "4.166666666666667"
            ]
          },
          "metadata": {},
          "execution_count": 17
        }
      ]
    },
    {
      "cell_type": "code",
      "source": [
        "25//5"
      ],
      "metadata": {
        "id": "BdOHcuRXvJa4",
        "outputId": "88deda09-f0ab-444a-9617-dc35d9db933e",
        "colab": {
          "base_uri": "https://localhost:8080/"
        }
      },
      "execution_count": 18,
      "outputs": [
        {
          "output_type": "execute_result",
          "data": {
            "text/plain": [
              "5"
            ]
          },
          "metadata": {},
          "execution_count": 18
        }
      ]
    },
    {
      "cell_type": "code",
      "source": [
        "25//6"
      ],
      "metadata": {
        "id": "Z49gZ-RMvNRP",
        "outputId": "76aa8c6c-d0df-4c88-891d-e149effb9d16",
        "colab": {
          "base_uri": "https://localhost:8080/"
        }
      },
      "execution_count": 19,
      "outputs": [
        {
          "output_type": "execute_result",
          "data": {
            "text/plain": [
              "4"
            ]
          },
          "metadata": {},
          "execution_count": 19
        }
      ]
    },
    {
      "cell_type": "code",
      "source": [
        "2*60+30"
      ],
      "metadata": {
        "id": "gfar4YzdvR43",
        "outputId": "6592dfdf-7913-4d50-bbdf-cd802f2e91eb",
        "colab": {
          "base_uri": "https://localhost:8080/"
        }
      },
      "execution_count": 21,
      "outputs": [
        {
          "output_type": "execute_result",
          "data": {
            "text/plain": [
              "150"
            ]
          },
          "metadata": {},
          "execution_count": 21
        }
      ]
    },
    {
      "cell_type": "code",
      "source": [
        "30+2*60"
      ],
      "metadata": {
        "id": "Fa2CZGnpvSBP",
        "outputId": "ef2d54f5-7542-46dd-f15a-735508e9b457",
        "colab": {
          "base_uri": "https://localhost:8080/"
        }
      },
      "execution_count": 20,
      "outputs": [
        {
          "output_type": "execute_result",
          "data": {
            "text/plain": [
              "150"
            ]
          },
          "metadata": {},
          "execution_count": 20
        }
      ]
    },
    {
      "cell_type": "code",
      "source": [
        "(30+2)*60"
      ],
      "metadata": {
        "id": "px2D9wmUvXCX",
        "outputId": "415c8bb5-fc6c-4fa0-dbe3-e59a2242b5cf",
        "colab": {
          "base_uri": "https://localhost:8080/"
        }
      },
      "execution_count": 22,
      "outputs": [
        {
          "output_type": "execute_result",
          "data": {
            "text/plain": [
              "1920"
            ]
          },
          "metadata": {},
          "execution_count": 22
        }
      ]
    },
    {
      "cell_type": "code",
      "source": [
        "my_variable=1"
      ],
      "metadata": {
        "id": "7Ghy7cl4vX73"
      },
      "execution_count": 23,
      "outputs": []
    },
    {
      "cell_type": "code",
      "source": [
        "my_variable"
      ],
      "metadata": {
        "id": "UECJOmErvcs2",
        "outputId": "f0fc0e9f-eb4a-4560-f6a0-5eb3f97d1f24",
        "colab": {
          "base_uri": "https://localhost:8080/"
        }
      },
      "execution_count": 24,
      "outputs": [
        {
          "output_type": "execute_result",
          "data": {
            "text/plain": [
              "1"
            ]
          },
          "metadata": {},
          "execution_count": 24
        }
      ]
    },
    {
      "cell_type": "code",
      "source": [
        "my_variable=10"
      ],
      "metadata": {
        "id": "37VcHbtDvc3G"
      },
      "execution_count": 25,
      "outputs": []
    },
    {
      "cell_type": "code",
      "source": [
        "x=43+60+15"
      ],
      "metadata": {
        "id": "EwEgfJWWvYAB"
      },
      "execution_count": 26,
      "outputs": []
    },
    {
      "cell_type": "code",
      "source": [
        "y=x/2"
      ],
      "metadata": {
        "id": "j-gJHYrzvYJH"
      },
      "execution_count": 27,
      "outputs": []
    },
    {
      "cell_type": "code",
      "source": [
        "y"
      ],
      "metadata": {
        "id": "N5EogRp4vYRG",
        "outputId": "ed35891b-090b-4ac1-eba8-d7ef9affbcb1",
        "colab": {
          "base_uri": "https://localhost:8080/"
        }
      },
      "execution_count": 28,
      "outputs": [
        {
          "output_type": "execute_result",
          "data": {
            "text/plain": [
              "59.0"
            ]
          },
          "metadata": {},
          "execution_count": 28
        }
      ]
    },
    {
      "cell_type": "code",
      "source": [
        "y=y*2"
      ],
      "metadata": {
        "id": "4aYx7x3CwEd_"
      },
      "execution_count": 29,
      "outputs": []
    },
    {
      "cell_type": "code",
      "source": [
        "y"
      ],
      "metadata": {
        "id": "KPpeNYkfwEof",
        "outputId": "0bd27526-683a-4c18-dedd-e379d5995700",
        "colab": {
          "base_uri": "https://localhost:8080/"
        }
      },
      "execution_count": 30,
      "outputs": [
        {
          "output_type": "execute_result",
          "data": {
            "text/plain": [
              "118.0"
            ]
          },
          "metadata": {},
          "execution_count": 30
        }
      ]
    },
    {
      "cell_type": "code",
      "source": [
        "total_min=43+42"
      ],
      "metadata": {
        "id": "nOp4msQPwJtv"
      },
      "execution_count": 31,
      "outputs": []
    },
    {
      "cell_type": "code",
      "source": [
        "total_hr = total_min/60"
      ],
      "metadata": {
        "id": "JlNSLSCXwJ1e"
      },
      "execution_count": 32,
      "outputs": []
    },
    {
      "cell_type": "code",
      "source": [
        "total_hr"
      ],
      "metadata": {
        "id": "WzUMEyxPwKXI",
        "outputId": "07220c13-5a5b-46c2-820b-8570812f5a92",
        "colab": {
          "base_uri": "https://localhost:8080/"
        }
      },
      "execution_count": 33,
      "outputs": [
        {
          "output_type": "execute_result",
          "data": {
            "text/plain": [
              "1.4166666666666667"
            ]
          },
          "metadata": {},
          "execution_count": 33
        }
      ]
    },
    {
      "cell_type": "markdown",
      "source": [
        "**1.4 String Operations**"
      ],
      "metadata": {
        "id": "M-1NZQnzyB6v"
      }
    },
    {
      "cell_type": "code",
      "source": [
        "Name = \"Michael Jackson\""
      ],
      "metadata": {
        "id": "RtOB_gm9xCRL"
      },
      "execution_count": 34,
      "outputs": []
    },
    {
      "cell_type": "code",
      "source": [
        "Name[2]"
      ],
      "metadata": {
        "id": "fCrYsuMdyo8K",
        "outputId": "21c88457-4451-40e2-e46b-ee0ca2cbedf7",
        "colab": {
          "base_uri": "https://localhost:8080/",
          "height": 36
        }
      },
      "execution_count": 35,
      "outputs": [
        {
          "output_type": "execute_result",
          "data": {
            "text/plain": [
              "'c'"
            ],
            "application/vnd.google.colaboratory.intrinsic+json": {
              "type": "string"
            }
          },
          "metadata": {},
          "execution_count": 35
        }
      ]
    },
    {
      "cell_type": "code",
      "source": [
        "Name[-1]"
      ],
      "metadata": {
        "id": "MBl1B4eryo-o",
        "outputId": "ed6a2ac8-fb0b-4a75-837c-82a1feb11ce2",
        "colab": {
          "base_uri": "https://localhost:8080/",
          "height": 36
        }
      },
      "execution_count": 36,
      "outputs": [
        {
          "output_type": "execute_result",
          "data": {
            "text/plain": [
              "'n'"
            ],
            "application/vnd.google.colaboratory.intrinsic+json": {
              "type": "string"
            }
          },
          "metadata": {},
          "execution_count": 36
        }
      ]
    },
    {
      "cell_type": "code",
      "source": [
        "Name[-3]"
      ],
      "metadata": {
        "id": "Q82PQwxKypCw",
        "outputId": "263077f3-51c5-4b70-d308-1e627c8e2481",
        "colab": {
          "base_uri": "https://localhost:8080/",
          "height": 36
        }
      },
      "execution_count": 37,
      "outputs": [
        {
          "output_type": "execute_result",
          "data": {
            "text/plain": [
              "'s'"
            ],
            "application/vnd.google.colaboratory.intrinsic+json": {
              "type": "string"
            }
          },
          "metadata": {},
          "execution_count": 37
        }
      ]
    },
    {
      "cell_type": "code",
      "source": [
        "Name[0:4]"
      ],
      "metadata": {
        "id": "bHgX_saIy06m",
        "outputId": "4b862c05-e919-4077-c655-059f4f04698e",
        "colab": {
          "base_uri": "https://localhost:8080/",
          "height": 36
        }
      },
      "execution_count": 38,
      "outputs": [
        {
          "output_type": "execute_result",
          "data": {
            "text/plain": [
              "'Mich'"
            ],
            "application/vnd.google.colaboratory.intrinsic+json": {
              "type": "string"
            }
          },
          "metadata": {},
          "execution_count": 38
        }
      ]
    },
    {
      "cell_type": "code",
      "source": [
        "Name[-5:-1]"
      ],
      "metadata": {
        "id": "QBCAWViay09G",
        "outputId": "d54e50b4-0f04-4f79-c141-55dc950d5063",
        "colab": {
          "base_uri": "https://localhost:8080/",
          "height": 36
        }
      },
      "execution_count": 39,
      "outputs": [
        {
          "output_type": "execute_result",
          "data": {
            "text/plain": [
              "'ckso'"
            ],
            "application/vnd.google.colaboratory.intrinsic+json": {
              "type": "string"
            }
          },
          "metadata": {},
          "execution_count": 39
        }
      ]
    },
    {
      "cell_type": "code",
      "source": [
        "Name[::2]"
      ],
      "metadata": {
        "id": "DB1N9_wNy1BO",
        "outputId": "a722b842-5fd6-4039-90b1-85078df9285e",
        "colab": {
          "base_uri": "https://localhost:8080/",
          "height": 36
        }
      },
      "execution_count": 40,
      "outputs": [
        {
          "output_type": "execute_result",
          "data": {
            "text/plain": [
              "'McalJcsn'"
            ],
            "application/vnd.google.colaboratory.intrinsic+json": {
              "type": "string"
            }
          },
          "metadata": {},
          "execution_count": 40
        }
      ]
    },
    {
      "cell_type": "code",
      "source": [
        "Name[::3]"
      ],
      "metadata": {
        "id": "NYn1Pzo4zGIh",
        "outputId": "b2e443b8-54c8-4954-b0bd-559e6febb664",
        "colab": {
          "base_uri": "https://localhost:8080/",
          "height": 36
        }
      },
      "execution_count": 41,
      "outputs": [
        {
          "output_type": "execute_result",
          "data": {
            "text/plain": [
              "'Mhlas'"
            ],
            "application/vnd.google.colaboratory.intrinsic+json": {
              "type": "string"
            }
          },
          "metadata": {},
          "execution_count": 41
        }
      ]
    },
    {
      "cell_type": "code",
      "source": [
        "Name[0:5:2]"
      ],
      "metadata": {
        "id": "2OzEmKmpzGLK",
        "outputId": "1a41bd56-25b6-4e03-cf92-3e9206919130",
        "colab": {
          "base_uri": "https://localhost:8080/",
          "height": 36
        }
      },
      "execution_count": 42,
      "outputs": [
        {
          "output_type": "execute_result",
          "data": {
            "text/plain": [
              "'Mca'"
            ],
            "application/vnd.google.colaboratory.intrinsic+json": {
              "type": "string"
            }
          },
          "metadata": {},
          "execution_count": 42
        }
      ]
    },
    {
      "cell_type": "code",
      "source": [
        "len(\"Michael Jackson\")"
      ],
      "metadata": {
        "id": "b7TDGRKMy1HO",
        "outputId": "f1af4f3f-2f41-4487-d807-6f51effcceb2",
        "colab": {
          "base_uri": "https://localhost:8080/"
        }
      },
      "execution_count": 43,
      "outputs": [
        {
          "output_type": "execute_result",
          "data": {
            "text/plain": [
              "15"
            ]
          },
          "metadata": {},
          "execution_count": 43
        }
      ]
    },
    {
      "cell_type": "code",
      "source": [
        "Statement = Name + \" is the best\""
      ],
      "metadata": {
        "id": "qUXs33sXypFY"
      },
      "execution_count": 44,
      "outputs": []
    },
    {
      "cell_type": "code",
      "source": [
        "Statement"
      ],
      "metadata": {
        "id": "DnwRkCdAzi5C",
        "outputId": "df5136c3-8d56-4534-d97f-dc113a0257d8",
        "colab": {
          "base_uri": "https://localhost:8080/",
          "height": 36
        }
      },
      "execution_count": 45,
      "outputs": [
        {
          "output_type": "execute_result",
          "data": {
            "text/plain": [
              "'Michael Jackson is the best'"
            ],
            "application/vnd.google.colaboratory.intrinsic+json": {
              "type": "string"
            }
          },
          "metadata": {},
          "execution_count": 45
        }
      ]
    },
    {
      "cell_type": "code",
      "source": [
        "3 * \"Michael\""
      ],
      "metadata": {
        "id": "eKOoTd6Dzi7w",
        "outputId": "6d386362-83f5-4e4e-9ecf-ae88ea0abced",
        "colab": {
          "base_uri": "https://localhost:8080/",
          "height": 36
        }
      },
      "execution_count": 46,
      "outputs": [
        {
          "output_type": "execute_result",
          "data": {
            "text/plain": [
              "'MichaelMichaelMichael'"
            ],
            "application/vnd.google.colaboratory.intrinsic+json": {
              "type": "string"
            }
          },
          "metadata": {},
          "execution_count": 46
        }
      ]
    },
    {
      "cell_type": "code",
      "source": [
        "print(\"Michael Jackson\\nis the best\")"
      ],
      "metadata": {
        "id": "-gtx6iHAz_xn",
        "outputId": "007e6421-c0ba-493c-8672-037d07bdb781",
        "colab": {
          "base_uri": "https://localhost:8080/"
        }
      },
      "execution_count": 47,
      "outputs": [
        {
          "output_type": "stream",
          "name": "stdout",
          "text": [
            "Michael Jackson\n",
            "is the best\n"
          ]
        }
      ]
    },
    {
      "cell_type": "code",
      "source": [
        "print(\"Michael Jackson\\t\\tis the best\")"
      ],
      "metadata": {
        "id": "9RM8NMuEz_t3",
        "outputId": "d19be5ba-a72d-408c-f789-4a1b8040aea9",
        "colab": {
          "base_uri": "https://localhost:8080/"
        }
      },
      "execution_count": 48,
      "outputs": [
        {
          "output_type": "stream",
          "name": "stdout",
          "text": [
            "Michael Jackson\t\tis the best\n"
          ]
        }
      ]
    },
    {
      "cell_type": "code",
      "source": [
        "print(\"Michael Jackson\\\\is the best\")"
      ],
      "metadata": {
        "id": "nIn5W5yk0oeP",
        "outputId": "5126c22b-85f6-411f-91c8-fab9ba15403b",
        "colab": {
          "base_uri": "https://localhost:8080/"
        }
      },
      "execution_count": 49,
      "outputs": [
        {
          "output_type": "stream",
          "name": "stdout",
          "text": [
            "Michael Jackson\\is the best\n"
          ]
        }
      ]
    },
    {
      "cell_type": "code",
      "source": [
        "print(r\"Michael Jackson\\is the best\")"
      ],
      "metadata": {
        "id": "ZQntraYC0oZH",
        "outputId": "d16c1fc8-04ed-46f6-edf8-9a29860bc307",
        "colab": {
          "base_uri": "https://localhost:8080/"
        }
      },
      "execution_count": 50,
      "outputs": [
        {
          "output_type": "stream",
          "name": "stdout",
          "text": [
            "Michael Jackson\\is the best\n"
          ]
        }
      ]
    },
    {
      "cell_type": "markdown",
      "source": [
        "*String Methods*"
      ],
      "metadata": {
        "id": "jzI-xnNZ04Yx"
      }
    },
    {
      "cell_type": "code",
      "source": [
        "A = \"Thriller is the sixth studio album\""
      ],
      "metadata": {
        "id": "VkGBMyp41Kf4"
      },
      "execution_count": 51,
      "outputs": []
    },
    {
      "cell_type": "code",
      "source": [
        "B = A.upper()"
      ],
      "metadata": {
        "id": "8LjKl1LT0oWn"
      },
      "execution_count": 52,
      "outputs": []
    },
    {
      "cell_type": "code",
      "source": [
        "B"
      ],
      "metadata": {
        "id": "M_pjpVxB0t0G",
        "outputId": "6f4ba5c6-8ad3-4784-d0d9-f21af4212885",
        "colab": {
          "base_uri": "https://localhost:8080/",
          "height": 36
        }
      },
      "execution_count": 53,
      "outputs": [
        {
          "output_type": "execute_result",
          "data": {
            "text/plain": [
              "'THRILLER IS THE SIXTH STUDIO ALBUM'"
            ],
            "application/vnd.google.colaboratory.intrinsic+json": {
              "type": "string"
            }
          },
          "metadata": {},
          "execution_count": 53
        }
      ]
    },
    {
      "cell_type": "code",
      "source": [
        "B=A.replace('sixth','fifth')"
      ],
      "metadata": {
        "id": "2gjPY4Ir03af"
      },
      "execution_count": 54,
      "outputs": []
    },
    {
      "cell_type": "code",
      "source": [
        "B"
      ],
      "metadata": {
        "id": "8EXbIJCg0ttH",
        "outputId": "bc95cd93-c90a-4626-8608-04b30f5bb2af",
        "colab": {
          "base_uri": "https://localhost:8080/",
          "height": 36
        }
      },
      "execution_count": 55,
      "outputs": [
        {
          "output_type": "execute_result",
          "data": {
            "text/plain": [
              "'Thriller is the fifth studio album'"
            ],
            "application/vnd.google.colaboratory.intrinsic+json": {
              "type": "string"
            }
          },
          "metadata": {},
          "execution_count": 55
        }
      ]
    },
    {
      "cell_type": "code",
      "source": [
        "Name.find('Jack')"
      ],
      "metadata": {
        "id": "x_aBt2Tq1jMm",
        "outputId": "02453806-84f6-4f9f-e25b-2b7b470abcfe",
        "colab": {
          "base_uri": "https://localhost:8080/"
        }
      },
      "execution_count": 56,
      "outputs": [
        {
          "output_type": "execute_result",
          "data": {
            "text/plain": [
              "8"
            ]
          },
          "metadata": {},
          "execution_count": 56
        }
      ]
    },
    {
      "cell_type": "code",
      "source": [
        "Name.find('ol')"
      ],
      "metadata": {
        "id": "ypeZ-0yB1jIX",
        "outputId": "1f20b53f-5a91-413b-b476-14ecd3840361",
        "colab": {
          "base_uri": "https://localhost:8080/"
        }
      },
      "execution_count": 57,
      "outputs": [
        {
          "output_type": "execute_result",
          "data": {
            "text/plain": [
              "-1"
            ]
          },
          "metadata": {},
          "execution_count": 57
        }
      ]
    },
    {
      "cell_type": "markdown",
      "source": [
        "*Questions*"
      ],
      "metadata": {
        "id": "ryu8PB-J2Hqx"
      }
    },
    {
      "cell_type": "code",
      "source": [
        "Numbers = \"0123456\""
      ],
      "metadata": {
        "id": "lxmm1-Em2Hea"
      },
      "execution_count": 58,
      "outputs": []
    },
    {
      "cell_type": "code",
      "source": [
        "Numbers[::2]"
      ],
      "metadata": {
        "id": "zWEs4KDQ16Rv",
        "outputId": "43d9474e-319e-407c-c056-d833563c5df2",
        "colab": {
          "base_uri": "https://localhost:8080/",
          "height": 36
        }
      },
      "execution_count": 59,
      "outputs": [
        {
          "output_type": "execute_result",
          "data": {
            "text/plain": [
              "'0246'"
            ],
            "application/vnd.google.colaboratory.intrinsic+json": {
              "type": "string"
            }
          },
          "metadata": {},
          "execution_count": 59
        }
      ]
    },
    {
      "cell_type": "code",
      "source": [
        "\"0123456\".find('1')"
      ],
      "metadata": {
        "id": "GsYrrOuS16Me",
        "outputId": "97812e45-ddf7-4411-cdd3-488a2542fa81",
        "colab": {
          "base_uri": "https://localhost:8080/"
        }
      },
      "execution_count": 60,
      "outputs": [
        {
          "output_type": "execute_result",
          "data": {
            "text/plain": [
              "1"
            ]
          },
          "metadata": {},
          "execution_count": 60
        }
      ]
    }
  ]
}