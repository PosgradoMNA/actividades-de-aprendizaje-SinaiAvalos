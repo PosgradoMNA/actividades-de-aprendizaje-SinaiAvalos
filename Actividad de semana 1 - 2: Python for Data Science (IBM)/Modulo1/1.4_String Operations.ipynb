{
  "nbformat": 4,
  "nbformat_minor": 0,
  "metadata": {
    "colab": {
      "name": "assignment01.ipynb",
      "provenance": [],
      "include_colab_link": true
    },
    "kernelspec": {
      "name": "python3",
      "display_name": "Python 3"
    },
    "language_info": {
      "name": "python"
    }
  },
  "cells": [
    {
      "cell_type": "markdown",
      "metadata": {
        "id": "view-in-github",
        "colab_type": "text"
      },
      "source": [
        "<a href=\"https://colab.research.google.com/github/PosgradoMNA/actividades-de-aprendizaje-SinaiAvalos/blob/main/Actividad%20de%20semana%201%20-%202%3A%20Python%20for%20Data%20Science%20(IBM)/Modulo1/1.4_String%20Operations.ipynb\" target=\"_parent\"><img src=\"https://colab.research.google.com/assets/colab-badge.svg\" alt=\"Open In Colab\"/></a>"
      ]
    },
    {
      "cell_type": "markdown",
      "source": [
        "## **String Operations**"
      ],
      "metadata": {
        "id": "gjPVzKTgxANQ"
      }
    },
    {
      "cell_type": "code",
      "source": [
        "Name = \"Michael Jackson\""
      ],
      "metadata": {
        "id": "RtOB_gm9xCRL"
      },
      "execution_count": 43,
      "outputs": []
    },
    {
      "cell_type": "code",
      "source": [
        "Name[2]"
      ],
      "metadata": {
        "id": "fCrYsuMdyo8K",
        "outputId": "c070c457-e5b3-4bed-c3c5-ae7e1f7e7bc2",
        "colab": {
          "base_uri": "https://localhost:8080/",
          "height": 36
        }
      },
      "execution_count": 44,
      "outputs": [
        {
          "output_type": "execute_result",
          "data": {
            "text/plain": [
              "'c'"
            ],
            "application/vnd.google.colaboratory.intrinsic+json": {
              "type": "string"
            }
          },
          "metadata": {},
          "execution_count": 44
        }
      ]
    },
    {
      "cell_type": "code",
      "source": [
        "Name[-1]"
      ],
      "metadata": {
        "id": "MBl1B4eryo-o",
        "outputId": "22d94731-6536-42b4-8a3e-31d25c753c4e",
        "colab": {
          "base_uri": "https://localhost:8080/",
          "height": 36
        }
      },
      "execution_count": 45,
      "outputs": [
        {
          "output_type": "execute_result",
          "data": {
            "text/plain": [
              "'n'"
            ],
            "application/vnd.google.colaboratory.intrinsic+json": {
              "type": "string"
            }
          },
          "metadata": {},
          "execution_count": 45
        }
      ]
    },
    {
      "cell_type": "code",
      "source": [
        "Name[-3]"
      ],
      "metadata": {
        "id": "Q82PQwxKypCw",
        "outputId": "947ac853-5ceb-4d39-a5fa-19dd2bde03e6",
        "colab": {
          "base_uri": "https://localhost:8080/",
          "height": 36
        }
      },
      "execution_count": 46,
      "outputs": [
        {
          "output_type": "execute_result",
          "data": {
            "text/plain": [
              "'s'"
            ],
            "application/vnd.google.colaboratory.intrinsic+json": {
              "type": "string"
            }
          },
          "metadata": {},
          "execution_count": 46
        }
      ]
    },
    {
      "cell_type": "code",
      "source": [
        "Name[0:4]"
      ],
      "metadata": {
        "id": "bHgX_saIy06m",
        "outputId": "840e909c-934a-47e7-c328-38d97a86ead0",
        "colab": {
          "base_uri": "https://localhost:8080/",
          "height": 36
        }
      },
      "execution_count": 47,
      "outputs": [
        {
          "output_type": "execute_result",
          "data": {
            "text/plain": [
              "'Mich'"
            ],
            "application/vnd.google.colaboratory.intrinsic+json": {
              "type": "string"
            }
          },
          "metadata": {},
          "execution_count": 47
        }
      ]
    },
    {
      "cell_type": "code",
      "source": [
        "Name[-5:-1]"
      ],
      "metadata": {
        "id": "QBCAWViay09G",
        "outputId": "35f79f6f-5c15-47b8-acde-b943c507b047",
        "colab": {
          "base_uri": "https://localhost:8080/",
          "height": 36
        }
      },
      "execution_count": 48,
      "outputs": [
        {
          "output_type": "execute_result",
          "data": {
            "text/plain": [
              "'ckso'"
            ],
            "application/vnd.google.colaboratory.intrinsic+json": {
              "type": "string"
            }
          },
          "metadata": {},
          "execution_count": 48
        }
      ]
    },
    {
      "cell_type": "code",
      "source": [
        "Name[::2]"
      ],
      "metadata": {
        "id": "DB1N9_wNy1BO",
        "outputId": "25fced07-bbcf-4b71-b6b7-7c45dcfcd428",
        "colab": {
          "base_uri": "https://localhost:8080/",
          "height": 36
        }
      },
      "execution_count": 49,
      "outputs": [
        {
          "output_type": "execute_result",
          "data": {
            "text/plain": [
              "'McalJcsn'"
            ],
            "application/vnd.google.colaboratory.intrinsic+json": {
              "type": "string"
            }
          },
          "metadata": {},
          "execution_count": 49
        }
      ]
    },
    {
      "cell_type": "code",
      "source": [
        "Name[::3]"
      ],
      "metadata": {
        "id": "NYn1Pzo4zGIh",
        "outputId": "8abcf621-32c3-4231-a2c5-18a23b99c534",
        "colab": {
          "base_uri": "https://localhost:8080/",
          "height": 36
        }
      },
      "execution_count": 50,
      "outputs": [
        {
          "output_type": "execute_result",
          "data": {
            "text/plain": [
              "'Mhlas'"
            ],
            "application/vnd.google.colaboratory.intrinsic+json": {
              "type": "string"
            }
          },
          "metadata": {},
          "execution_count": 50
        }
      ]
    },
    {
      "cell_type": "code",
      "source": [
        "Name[0:5:2]"
      ],
      "metadata": {
        "id": "2OzEmKmpzGLK",
        "outputId": "6b17f58b-724b-43c2-e886-6a1b89a500fb",
        "colab": {
          "base_uri": "https://localhost:8080/",
          "height": 36
        }
      },
      "execution_count": 51,
      "outputs": [
        {
          "output_type": "execute_result",
          "data": {
            "text/plain": [
              "'Mca'"
            ],
            "application/vnd.google.colaboratory.intrinsic+json": {
              "type": "string"
            }
          },
          "metadata": {},
          "execution_count": 51
        }
      ]
    },
    {
      "cell_type": "code",
      "source": [
        "len(\"Michael Jackson\")"
      ],
      "metadata": {
        "id": "b7TDGRKMy1HO",
        "outputId": "70ea468b-c36e-4f76-d755-2fc85d2cfd97",
        "colab": {
          "base_uri": "https://localhost:8080/"
        }
      },
      "execution_count": 52,
      "outputs": [
        {
          "output_type": "execute_result",
          "data": {
            "text/plain": [
              "15"
            ]
          },
          "metadata": {},
          "execution_count": 52
        }
      ]
    },
    {
      "cell_type": "code",
      "source": [
        "Statement = Name + \" is the best\""
      ],
      "metadata": {
        "id": "qUXs33sXypFY"
      },
      "execution_count": 59,
      "outputs": []
    },
    {
      "cell_type": "code",
      "source": [
        "Statement"
      ],
      "metadata": {
        "id": "DnwRkCdAzi5C",
        "outputId": "d4790a9a-ba8e-47cc-c07e-38756f6dab33",
        "colab": {
          "base_uri": "https://localhost:8080/",
          "height": 36
        }
      },
      "execution_count": 71,
      "outputs": [
        {
          "output_type": "execute_result",
          "data": {
            "text/plain": [
              "'Michael Jackson is the best'"
            ],
            "application/vnd.google.colaboratory.intrinsic+json": {
              "type": "string"
            }
          },
          "metadata": {},
          "execution_count": 71
        }
      ]
    },
    {
      "cell_type": "code",
      "source": [
        "3 * \"Michael\""
      ],
      "metadata": {
        "id": "eKOoTd6Dzi7w",
        "outputId": "03dae7a8-bd28-4fc1-f61c-8f3e3b56f769",
        "colab": {
          "base_uri": "https://localhost:8080/",
          "height": 36
        }
      },
      "execution_count": 61,
      "outputs": [
        {
          "output_type": "execute_result",
          "data": {
            "text/plain": [
              "'MichaelMichaelMichael'"
            ],
            "application/vnd.google.colaboratory.intrinsic+json": {
              "type": "string"
            }
          },
          "metadata": {},
          "execution_count": 61
        }
      ]
    },
    {
      "cell_type": "code",
      "source": [
        "print(\"Michael Jackson\\nis the best\")"
      ],
      "metadata": {
        "id": "-gtx6iHAz_xn",
        "outputId": "d66779b5-4272-454a-8266-3128f7dbc0f7",
        "colab": {
          "base_uri": "https://localhost:8080/"
        }
      },
      "execution_count": 73,
      "outputs": [
        {
          "output_type": "stream",
          "name": "stdout",
          "text": [
            "Michael Jackson\n",
            "is the best\n"
          ]
        }
      ]
    },
    {
      "cell_type": "code",
      "source": [
        "print(\"Michael Jackson\\t\\tis the best\")"
      ],
      "metadata": {
        "id": "9RM8NMuEz_t3",
        "outputId": "f87013f3-71bb-4510-e383-f83015f109ea",
        "colab": {
          "base_uri": "https://localhost:8080/"
        }
      },
      "execution_count": 75,
      "outputs": [
        {
          "output_type": "stream",
          "name": "stdout",
          "text": [
            "Michael Jackson\t\tis the best\n"
          ]
        }
      ]
    },
    {
      "cell_type": "code",
      "source": [
        "print(\"Michael Jackson\\\\is the best\")"
      ],
      "metadata": {
        "id": "nIn5W5yk0oeP",
        "outputId": "d61e2fef-984a-46b6-a358-5b68fa4c6a30",
        "colab": {
          "base_uri": "https://localhost:8080/"
        }
      },
      "execution_count": 76,
      "outputs": [
        {
          "output_type": "stream",
          "name": "stdout",
          "text": [
            "Michael Jackson\\is the best\n"
          ]
        }
      ]
    },
    {
      "cell_type": "code",
      "source": [
        "print(r\"Michael Jackson\\is the best\")"
      ],
      "metadata": {
        "id": "ZQntraYC0oZH",
        "outputId": "dd5827e9-99cc-4750-adc5-a3c7e10c56ad",
        "colab": {
          "base_uri": "https://localhost:8080/"
        }
      },
      "execution_count": 77,
      "outputs": [
        {
          "output_type": "stream",
          "name": "stdout",
          "text": [
            "Michael Jackson\\is the best\n"
          ]
        }
      ]
    },
    {
      "cell_type": "markdown",
      "source": [
        "# String Methods"
      ],
      "metadata": {
        "id": "jzI-xnNZ04Yx"
      }
    },
    {
      "cell_type": "code",
      "source": [
        "A = \"Thriller is the sixth studio album\""
      ],
      "metadata": {
        "id": "VkGBMyp41Kf4"
      },
      "execution_count": 78,
      "outputs": []
    },
    {
      "cell_type": "code",
      "source": [
        "B = A.upper()"
      ],
      "metadata": {
        "id": "8LjKl1LT0oWn"
      },
      "execution_count": 79,
      "outputs": []
    },
    {
      "cell_type": "code",
      "source": [
        "B"
      ],
      "metadata": {
        "id": "M_pjpVxB0t0G",
        "outputId": "1fae1eb2-eb39-4006-c23b-1fe730c5cb0d",
        "colab": {
          "base_uri": "https://localhost:8080/",
          "height": 36
        }
      },
      "execution_count": 80,
      "outputs": [
        {
          "output_type": "execute_result",
          "data": {
            "text/plain": [
              "'THRILLER IS THE SIXTH STUDIO ALBUM'"
            ],
            "application/vnd.google.colaboratory.intrinsic+json": {
              "type": "string"
            }
          },
          "metadata": {},
          "execution_count": 80
        }
      ]
    },
    {
      "cell_type": "code",
      "source": [
        "B=A.replace('sixth','fifth')"
      ],
      "metadata": {
        "id": "2gjPY4Ir03af"
      },
      "execution_count": 83,
      "outputs": []
    },
    {
      "cell_type": "code",
      "source": [
        "B"
      ],
      "metadata": {
        "id": "8EXbIJCg0ttH",
        "outputId": "385573e7-122b-438f-e657-7bed1e7bded8",
        "colab": {
          "base_uri": "https://localhost:8080/",
          "height": 36
        }
      },
      "execution_count": 84,
      "outputs": [
        {
          "output_type": "execute_result",
          "data": {
            "text/plain": [
              "'Thriller is the fifth studio album'"
            ],
            "application/vnd.google.colaboratory.intrinsic+json": {
              "type": "string"
            }
          },
          "metadata": {},
          "execution_count": 84
        }
      ]
    },
    {
      "cell_type": "code",
      "source": [
        "Name.find('Jack')"
      ],
      "metadata": {
        "id": "x_aBt2Tq1jMm",
        "outputId": "6bcfcf88-438e-4634-9529-5e173d00e9d6",
        "colab": {
          "base_uri": "https://localhost:8080/"
        }
      },
      "execution_count": 86,
      "outputs": [
        {
          "output_type": "execute_result",
          "data": {
            "text/plain": [
              "8"
            ]
          },
          "metadata": {},
          "execution_count": 86
        }
      ]
    },
    {
      "cell_type": "code",
      "source": [
        "Name.find('ol')"
      ],
      "metadata": {
        "id": "ypeZ-0yB1jIX",
        "outputId": "92848d85-1069-4364-cafa-fd2fcb2b962b",
        "colab": {
          "base_uri": "https://localhost:8080/"
        }
      },
      "execution_count": 87,
      "outputs": [
        {
          "output_type": "execute_result",
          "data": {
            "text/plain": [
              "-1"
            ]
          },
          "metadata": {},
          "execution_count": 87
        }
      ]
    },
    {
      "cell_type": "markdown",
      "source": [
        "# Questions"
      ],
      "metadata": {
        "id": "ryu8PB-J2Hqx"
      }
    },
    {
      "cell_type": "code",
      "source": [
        "Numbers = \"0123456\""
      ],
      "metadata": {
        "id": "lxmm1-Em2Hea"
      },
      "execution_count": 88,
      "outputs": []
    },
    {
      "cell_type": "code",
      "source": [
        "Numbers[::2]"
      ],
      "metadata": {
        "id": "zWEs4KDQ16Rv",
        "outputId": "b01fe41a-b42c-4e2e-badf-381282b163c0",
        "colab": {
          "base_uri": "https://localhost:8080/",
          "height": 36
        }
      },
      "execution_count": 89,
      "outputs": [
        {
          "output_type": "execute_result",
          "data": {
            "text/plain": [
              "'0246'"
            ],
            "application/vnd.google.colaboratory.intrinsic+json": {
              "type": "string"
            }
          },
          "metadata": {},
          "execution_count": 89
        }
      ]
    },
    {
      "cell_type": "code",
      "source": [
        "\"0123456\".find('1')"
      ],
      "metadata": {
        "id": "GsYrrOuS16Me",
        "outputId": "78af83e2-f5d5-45b3-ea99-3f60c07d3a59",
        "colab": {
          "base_uri": "https://localhost:8080/"
        }
      },
      "execution_count": 90,
      "outputs": [
        {
          "output_type": "execute_result",
          "data": {
            "text/plain": [
              "1"
            ]
          },
          "metadata": {},
          "execution_count": 90
        }
      ]
    }
  ]
}