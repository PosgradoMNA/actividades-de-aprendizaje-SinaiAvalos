{
  "nbformat": 4,
  "nbformat_minor": 0,
  "metadata": {
    "kernelspec": {
      "display_name": "Python 3",
      "language": "python",
      "name": "python3"
    },
    "language_info": {
      "codemirror_mode": {
        "name": "ipython",
        "version": 3
      },
      "file_extension": ".py",
      "mimetype": "text/x-python",
      "name": "python",
      "nbconvert_exporter": "python",
      "pygments_lexer": "ipython3",
      "version": "3.7.7"
    },
    "colab": {
      "provenance": [],
      "collapsed_sections": [],
      "include_colab_link": true
    }
  },
  "cells": [
    {
      "cell_type": "markdown",
      "metadata": {
        "id": "view-in-github",
        "colab_type": "text"
      },
      "source": [
        "<a href=\"https://colab.research.google.com/github/PosgradoMNA/actividades-de-aprendizaje-SinaiAvalos/blob/main/Actividad%20Semanal--7.ipynb\" target=\"_parent\"><img src=\"https://colab.research.google.com/assets/colab-badge.svg\" alt=\"Open In Colab\"/></a>"
      ]
    },
    {
      "cell_type": "markdown",
      "source": [
        "# **Actividad Semanal -- 7 Regresiones y K means**\n",
        "\n",
        "Nombre: Sinaí Avalos Rivera\n",
        "\n",
        "Matrícula: A01730466\n",
        "\n",
        "Materia: Ciencia y analítica de datos\n",
        "\n",
        "Profesor: María de la Paz Rico Fernández\n",
        "\n",
        "Fecha: 11 de noviembre de 2022\n",
        "\n",
        "\n"
      ],
      "metadata": {
        "id": "cOvDgMDA3O2I"
      }
    }
  ]
}