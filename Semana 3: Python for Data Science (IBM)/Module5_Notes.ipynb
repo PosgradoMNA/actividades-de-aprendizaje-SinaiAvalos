{
  "nbformat": 4,
  "nbformat_minor": 0,
  "metadata": {
    "colab": {
      "name": "assignment01.ipynb",
      "provenance": [],
      "include_colab_link": true
    },
    "kernelspec": {
      "name": "python3",
      "display_name": "Python 3"
    },
    "language_info": {
      "name": "python"
    }
  },
  "cells": [
    {
      "cell_type": "markdown",
      "metadata": {
        "id": "view-in-github",
        "colab_type": "text"
      },
      "source": [
        "<a href=\"https://colab.research.google.com/github/PosgradoMNA/actividades-de-aprendizaje-SinaiAvalos/blob/main/Semana%203%3A%20Python%20for%20Data%20Science%20(IBM)/Module5_Notes.ipynb\" target=\"_parent\"><img src=\"https://colab.research.google.com/assets/colab-badge.svg\" alt=\"Open In Colab\"/></a>"
      ]
    },
    {
      "cell_type": "markdown",
      "source": [
        "*Sinaí Avalos Rivera A01730466*\n",
        "\n",
        "# **Module 5 - Working with Numpy Arrays & Simple APIs**\n"
      ],
      "metadata": {
        "id": "bUhFqPuG9HeD"
      }
    },
    {
      "cell_type": "markdown",
      "source": [
        "**Numpy 1D Arrays**"
      ],
      "metadata": {
        "id": "TidDvZYL9SgB"
      }
    },
    {
      "cell_type": "markdown",
      "source": [
        "Numpy is a library for scientific computing.\n",
        "\n",
        "*The Basics & Array Creation*\n",
        "\n",
        "A \"numpy\" array or \"ndarray\" is similar to a list. It's usually fixed in size and each element is of the same type. "
      ],
      "metadata": {
        "id": "wCVTxjpj9U4g"
      }
    },
    {
      "cell_type": "code",
      "source": [
        "import numpy as np\n",
        "a=np.array([0,1,2,3,4]) #cast list\n",
        "\n",
        "type(a)"
      ],
      "metadata": {
        "id": "mxM_WppZPMFx",
        "outputId": "cf6cb8e7-e235-4cf8-cbb4-7346124ed6da",
        "colab": {
          "base_uri": "https://localhost:8080/"
        }
      },
      "execution_count": 2,
      "outputs": [
        {
          "output_type": "execute_result",
          "data": {
            "text/plain": [
              "numpy.ndarray"
            ]
          },
          "metadata": {},
          "execution_count": 2
        }
      ]
    },
    {
      "cell_type": "markdown",
      "source": [
        "As numpy arrays contain data of the same type, we can use the attribute \"dtype\" to obtain the data type of the array’s elements."
      ],
      "metadata": {
        "id": "BQK-nuyc-FWI"
      }
    },
    {
      "cell_type": "code",
      "source": [
        "a.dtype"
      ],
      "metadata": {
        "id": "59hVgk9U9wsG",
        "outputId": "a17cd6cd-18d3-430d-f936-5ffa87042bf1",
        "colab": {
          "base_uri": "https://localhost:8080/"
        }
      },
      "execution_count": 6,
      "outputs": [
        {
          "output_type": "execute_result",
          "data": {
            "text/plain": [
              "dtype('int64')"
            ]
          },
          "metadata": {},
          "execution_count": 6
        }
      ]
    },
    {
      "cell_type": "code",
      "source": [
        "a.size"
      ],
      "metadata": {
        "id": "mVOyq3w7-Prf",
        "outputId": "e694f82d-3c97-480f-d52c-4fa53b9e48ad",
        "colab": {
          "base_uri": "https://localhost:8080/"
        }
      },
      "execution_count": 7,
      "outputs": [
        {
          "output_type": "execute_result",
          "data": {
            "text/plain": [
              "5"
            ]
          },
          "metadata": {},
          "execution_count": 7
        }
      ]
    },
    {
      "cell_type": "code",
      "source": [
        "a.ndim #number of array dimensions"
      ],
      "metadata": {
        "id": "mh9tLkOq-i0H",
        "outputId": "886472fa-5b90-4106-b1b4-3c7dbec21840",
        "colab": {
          "base_uri": "https://localhost:8080/"
        }
      },
      "execution_count": 9,
      "outputs": [
        {
          "output_type": "execute_result",
          "data": {
            "text/plain": [
              "1"
            ]
          },
          "metadata": {},
          "execution_count": 9
        }
      ]
    },
    {
      "cell_type": "code",
      "source": [
        "a.shape #tuple of integers indicating the size of the array in each dimension"
      ],
      "metadata": {
        "id": "Lif5aDC--nDy",
        "outputId": "dfe83aae-f79c-4e50-d304-baca4b11c04a",
        "colab": {
          "base_uri": "https://localhost:8080/"
        }
      },
      "execution_count": 11,
      "outputs": [
        {
          "output_type": "execute_result",
          "data": {
            "text/plain": [
              "(5,)"
            ]
          },
          "metadata": {},
          "execution_count": 11
        }
      ]
    },
    {
      "cell_type": "code",
      "source": [
        "b=np.array([3.1,11.02,6.2,213.2,5.2]) #numpy array with real numbers"
      ],
      "metadata": {
        "id": "ck01SdCl-syL"
      },
      "execution_count": 15,
      "outputs": []
    },
    {
      "cell_type": "code",
      "source": [
        "type(b)"
      ],
      "metadata": {
        "id": "FrmJzv2A-120",
        "outputId": "2fb3dca7-7bcc-49ea-c7b1-15278e5887b7",
        "colab": {
          "base_uri": "https://localhost:8080/"
        }
      },
      "execution_count": 16,
      "outputs": [
        {
          "output_type": "execute_result",
          "data": {
            "text/plain": [
              "numpy.ndarray"
            ]
          },
          "metadata": {},
          "execution_count": 16
        }
      ]
    },
    {
      "cell_type": "code",
      "source": [
        "b.dtype"
      ],
      "metadata": {
        "id": "va4_O1f6-7v_",
        "outputId": "96eec3ae-dd52-486f-d3d8-63f1ece317e1",
        "colab": {
          "base_uri": "https://localhost:8080/"
        }
      },
      "execution_count": 17,
      "outputs": [
        {
          "output_type": "execute_result",
          "data": {
            "text/plain": [
              "dtype('float64')"
            ]
          },
          "metadata": {},
          "execution_count": 17
        }
      ]
    },
    {
      "cell_type": "markdown",
      "source": [
        "*Indexing and Slicing*"
      ],
      "metadata": {
        "id": "TgxmmDGx_FLJ"
      }
    },
    {
      "cell_type": "code",
      "source": [
        "c=np.array([20,1,2,3,4])\n",
        "c"
      ],
      "metadata": {
        "id": "u7OBu6Sb_BxQ",
        "outputId": "abc2c48b-a07e-4adc-e348-fdfaa9fcab06",
        "colab": {
          "base_uri": "https://localhost:8080/"
        }
      },
      "execution_count": 19,
      "outputs": [
        {
          "output_type": "execute_result",
          "data": {
            "text/plain": [
              "array([20,  1,  2,  3,  4])"
            ]
          },
          "metadata": {},
          "execution_count": 19
        }
      ]
    },
    {
      "cell_type": "code",
      "source": [
        "c[0]=100 #first value change\n",
        "c"
      ],
      "metadata": {
        "id": "jQj3nVEw_Ppj",
        "outputId": "3a9c4e84-8b67-4bf4-db29-b764002f8d04",
        "colab": {
          "base_uri": "https://localhost:8080/"
        }
      },
      "execution_count": 22,
      "outputs": [
        {
          "output_type": "execute_result",
          "data": {
            "text/plain": [
              "array([100,   1,   2,   3,   4])"
            ]
          },
          "metadata": {},
          "execution_count": 22
        }
      ]
    },
    {
      "cell_type": "code",
      "source": [
        "# Like lists and tuples, we can slice a numpy array\n",
        "\n",
        "d=c[1:4]\n",
        "d"
      ],
      "metadata": {
        "id": "e-SkJI-C_TNk",
        "outputId": "1ff16371-7e47-455e-d4b7-8f972b756fae",
        "colab": {
          "base_uri": "https://localhost:8080/"
        }
      },
      "execution_count": 23,
      "outputs": [
        {
          "output_type": "execute_result",
          "data": {
            "text/plain": [
              "array([1, 2, 3])"
            ]
          },
          "metadata": {},
          "execution_count": 23
        }
      ]
    },
    {
      "cell_type": "code",
      "source": [
        "c[3:5]=300,400\n",
        "c"
      ],
      "metadata": {
        "id": "hZvM90vjAlCV",
        "outputId": "50b33409-5e56-458f-a865-8b4619aae479",
        "colab": {
          "base_uri": "https://localhost:8080/"
        }
      },
      "execution_count": 25,
      "outputs": [
        {
          "output_type": "execute_result",
          "data": {
            "text/plain": [
              "array([100,   1,   2, 300, 400])"
            ]
          },
          "metadata": {},
          "execution_count": 25
        }
      ]
    },
    {
      "cell_type": "markdown",
      "source": [
        "*Basic Operations*"
      ],
      "metadata": {
        "id": "PArJpptuAt3g"
      }
    },
    {
      "cell_type": "markdown",
      "source": [
        "Vector Addtition and Substraction"
      ],
      "metadata": {
        "id": "A1CmB6SxBedo"
      }
    },
    {
      "cell_type": "code",
      "source": [
        "u=[1,0]\n",
        "v=[0,1]\n",
        "z=[]\n",
        "\n",
        "for n,m in zip(u,v):\n",
        "  z.append(n+m)\n",
        "\n",
        "z"
      ],
      "metadata": {
        "id": "8wlHdvXQAqCO",
        "outputId": "1471d7cf-dd60-4162-a7ea-5657a7db848e",
        "colab": {
          "base_uri": "https://localhost:8080/"
        }
      },
      "execution_count": 33,
      "outputs": [
        {
          "output_type": "execute_result",
          "data": {
            "text/plain": [
              "[1, 1]"
            ]
          },
          "metadata": {},
          "execution_count": 33
        }
      ]
    },
    {
      "cell_type": "code",
      "source": [
        "u=np.array([1,0])\n",
        "v=np.array([0,1])\n",
        "\n",
        "z=u+v\n",
        "\n",
        "z"
      ],
      "metadata": {
        "id": "jSgsihSSCHFm",
        "outputId": "09ee5ac5-ae45-43ac-bf63-c82e197fba48",
        "colab": {
          "base_uri": "https://localhost:8080/"
        }
      },
      "execution_count": 30,
      "outputs": [
        {
          "output_type": "execute_result",
          "data": {
            "text/plain": [
              "array([1, 1])"
            ]
          },
          "metadata": {},
          "execution_count": 30
        }
      ]
    },
    {
      "cell_type": "code",
      "source": [
        "u=np.array([1,0])\n",
        "v=np.array([0,1])\n",
        "\n",
        "z=u-v\n",
        "\n",
        "z"
      ],
      "metadata": {
        "id": "sUpz_GQ3K2kg",
        "outputId": "89278a4e-a4de-47cd-b74e-9b2c619ea960",
        "colab": {
          "base_uri": "https://localhost:8080/"
        }
      },
      "execution_count": 32,
      "outputs": [
        {
          "output_type": "execute_result",
          "data": {
            "text/plain": [
              "array([ 1, -1])"
            ]
          },
          "metadata": {},
          "execution_count": 32
        }
      ]
    },
    {
      "cell_type": "code",
      "source": [
        "y=np.array([1,2])\n",
        "\n",
        "z=2*y\n",
        "\n",
        "z"
      ],
      "metadata": {
        "id": "_L879fodK9VJ",
        "outputId": "1a4f01c4-aa0b-47b5-8d7b-11ec2e1150fa",
        "colab": {
          "base_uri": "https://localhost:8080/"
        }
      },
      "execution_count": 35,
      "outputs": [
        {
          "output_type": "execute_result",
          "data": {
            "text/plain": [
              "array([2, 4])"
            ]
          },
          "metadata": {},
          "execution_count": 35
        }
      ]
    },
    {
      "cell_type": "code",
      "source": [
        "#Scalar multiplication\n",
        "\n",
        "u=np.array([1,2])\n",
        "v=np.array([3,2])\n",
        "\n",
        "z=u*v\n",
        "\n",
        "z"
      ],
      "metadata": {
        "id": "owXy_u67LII-",
        "outputId": "cc50d39f-f41c-4846-b95f-0c11831b991a",
        "colab": {
          "base_uri": "https://localhost:8080/"
        }
      },
      "execution_count": 36,
      "outputs": [
        {
          "output_type": "execute_result",
          "data": {
            "text/plain": [
              "array([3, 4])"
            ]
          },
          "metadata": {},
          "execution_count": 36
        }
      ]
    },
    {
      "cell_type": "code",
      "source": [
        "#dot product\n",
        "\n",
        "u=np.array([1,2])\n",
        "v=np.array([3,1])\n",
        "\n",
        "result=np.dot(u,v)\n",
        "\n",
        "result\n"
      ],
      "metadata": {
        "id": "ktKLHTe3LemT",
        "outputId": "2caadd94-bd76-48b9-ce2e-adad394c0357",
        "colab": {
          "base_uri": "https://localhost:8080/"
        }
      },
      "execution_count": 38,
      "outputs": [
        {
          "output_type": "execute_result",
          "data": {
            "text/plain": [
              "5"
            ]
          },
          "metadata": {},
          "execution_count": 38
        }
      ]
    },
    {
      "cell_type": "code",
      "source": [
        "#Adding constant to an numpy array -> BROADCASTING\n",
        "\n",
        "u=np.array([1,2,3,-1])\n",
        "\n",
        "z=u+1\n",
        "\n",
        "z"
      ],
      "metadata": {
        "id": "XiYdw7cWLyLn",
        "outputId": "26b92d32-0e3d-4f8e-d582-66a5684281a5",
        "colab": {
          "base_uri": "https://localhost:8080/"
        }
      },
      "execution_count": 39,
      "outputs": [
        {
          "output_type": "execute_result",
          "data": {
            "text/plain": [
              "array([2, 3, 4, 0])"
            ]
          },
          "metadata": {},
          "execution_count": 39
        }
      ]
    },
    {
      "cell_type": "markdown",
      "source": [
        "*Universal Functions*\n",
        "\n",
        "A universal function is a function that operates on ndarrays."
      ],
      "metadata": {
        "id": "3AJ-A9xxMDhE"
      }
    },
    {
      "cell_type": "code",
      "source": [
        "a=np.array([1,-1,1,-1])\n",
        "\n",
        "mean_a=a.mean()\n",
        "\n",
        "mean_a"
      ],
      "metadata": {
        "id": "l_9kU1xfL_9v",
        "outputId": "022109ab-4083-4b08-ef88-7d11225d7df2",
        "colab": {
          "base_uri": "https://localhost:8080/"
        }
      },
      "execution_count": 40,
      "outputs": [
        {
          "output_type": "execute_result",
          "data": {
            "text/plain": [
              "0.0"
            ]
          },
          "metadata": {},
          "execution_count": 40
        }
      ]
    },
    {
      "cell_type": "code",
      "source": [
        "b=np.array([1,-2,3,4,5])\n",
        "\n",
        "max_b=b.max()"
      ],
      "metadata": {
        "id": "-_K2Y04DMPs8"
      },
      "execution_count": 41,
      "outputs": []
    },
    {
      "cell_type": "code",
      "source": [
        "np.pi"
      ],
      "metadata": {
        "id": "aJvbrT6oMZQo",
        "outputId": "fd99d59c-3e02-4806-9f5b-e317aee73461",
        "colab": {
          "base_uri": "https://localhost:8080/"
        }
      },
      "execution_count": 42,
      "outputs": [
        {
          "output_type": "execute_result",
          "data": {
            "text/plain": [
              "3.141592653589793"
            ]
          },
          "metadata": {},
          "execution_count": 42
        }
      ]
    },
    {
      "cell_type": "code",
      "source": [
        "x=np.array([0,np.pi/2,np.pi])  #numpy array in radians\n",
        "x"
      ],
      "metadata": {
        "id": "qehVQ7ULMgnz",
        "outputId": "b896d217-eebe-4994-b63c-7badfc2b1ced",
        "colab": {
          "base_uri": "https://localhost:8080/"
        }
      },
      "execution_count": 44,
      "outputs": [
        {
          "output_type": "execute_result",
          "data": {
            "text/plain": [
              "array([0.        , 1.57079633, 3.14159265])"
            ]
          },
          "metadata": {},
          "execution_count": 44
        }
      ]
    },
    {
      "cell_type": "code",
      "source": [
        "y=np.sin(x)\n",
        "y"
      ],
      "metadata": {
        "id": "buMj-1OpMqQd",
        "outputId": "44e8870e-e534-4afa-cb63-a603772b3e35",
        "colab": {
          "base_uri": "https://localhost:8080/"
        }
      },
      "execution_count": 45,
      "outputs": [
        {
          "output_type": "execute_result",
          "data": {
            "text/plain": [
              "array([0.0000000e+00, 1.0000000e+00, 1.2246468e-16])"
            ]
          },
          "metadata": {},
          "execution_count": 45
        }
      ]
    },
    {
      "cell_type": "code",
      "source": [
        "np.linspace(-2,2,num=5) #Linespace returns evenly spaced numbers over a specified interval."
      ],
      "metadata": {
        "id": "McWj2cPDMv5_",
        "outputId": "e5a92a03-015f-41b9-9504-012e252a7e28",
        "colab": {
          "base_uri": "https://localhost:8080/"
        }
      },
      "execution_count": 47,
      "outputs": [
        {
          "output_type": "execute_result",
          "data": {
            "text/plain": [
              "array([-2., -1.,  0.,  1.,  2.])"
            ]
          },
          "metadata": {},
          "execution_count": 47
        }
      ]
    },
    {
      "cell_type": "code",
      "source": [
        "x=np.linspace(0,2*np.pi, 100)\n",
        "\n",
        "y=np.sin(x)\n",
        "\n",
        "\n",
        "import matplotlib.pyplot as plt\n",
        "\n",
        "%matplotlib inline\n",
        "\n",
        "plt.plot(x,y)\n"
      ],
      "metadata": {
        "id": "deM7PYoSM4ay",
        "outputId": "68342391-d3d4-481b-e500-5a7253156011",
        "colab": {
          "base_uri": "https://localhost:8080/",
          "height": 282
        }
      },
      "execution_count": 52,
      "outputs": [
        {
          "output_type": "execute_result",
          "data": {
            "text/plain": [
              "[<matplotlib.lines.Line2D at 0x7f00638b8490>]"
            ]
          },
          "metadata": {},
          "execution_count": 52
        },
        {
          "output_type": "display_data",
          "data": {
            "text/plain": [
              "<Figure size 432x288 with 1 Axes>"
            ],
            "image/png": "[encoded data removed]"
          },
          "metadata": {
            "needs_background": "light"
          }
        }
      ]
    },
    {
      "cell_type": "markdown",
      "source": [
        "**Numpy 2D Arrays**\n",
        "\n",
        "\n"
      ],
      "metadata": {
        "id": "oxausbzUNjrs"
      }
    },
    {
      "cell_type": "code",
      "source": [
        "a=[[11,12,13],[21,22,23],[31,32,33]]\n",
        "\n",
        "A=np.array(a)\n",
        "A"
      ],
      "metadata": {
        "id": "Y6wv67XbNLtF",
        "outputId": "70a662b9-a1bb-41ff-e11d-5b3c897fd607",
        "colab": {
          "base_uri": "https://localhost:8080/"
        }
      },
      "execution_count": 56,
      "outputs": [
        {
          "output_type": "execute_result",
          "data": {
            "text/plain": [
              "array([[11, 12, 13],\n",
              "       [21, 22, 23],\n",
              "       [31, 32, 33]])"
            ]
          },
          "metadata": {},
          "execution_count": 56
        }
      ]
    },
    {
      "cell_type": "code",
      "source": [
        "A.ndim #It's useful to think of \"ndim\" as the number of nested lists."
      ],
      "metadata": {
        "id": "W4DzL5rgOS8p",
        "outputId": "05b4c3c6-b3b8-42f8-b84f-bb822d887c9a",
        "colab": {
          "base_uri": "https://localhost:8080/"
        }
      },
      "execution_count": 57,
      "outputs": [
        {
          "output_type": "execute_result",
          "data": {
            "text/plain": [
              "2"
            ]
          },
          "metadata": {},
          "execution_count": 57
        }
      ]
    },
    {
      "cell_type": "code",
      "source": [
        "A.shape #first: rows, second:columns"
      ],
      "metadata": {
        "id": "xxRsK6A8OhpU",
        "outputId": "a4577c14-fd2d-4723-964a-ab8df83e5a18",
        "colab": {
          "base_uri": "https://localhost:8080/"
        }
      },
      "execution_count": 59,
      "outputs": [
        {
          "output_type": "execute_result",
          "data": {
            "text/plain": [
              "(3, 3)"
            ]
          },
          "metadata": {},
          "execution_count": 59
        }
      ]
    },
    {
      "cell_type": "code",
      "source": [
        "A.size"
      ],
      "metadata": {
        "id": "lLBL8VNkOsM5",
        "outputId": "b7a08613-f80b-4f38-f9e0-bd5fabb402af",
        "colab": {
          "base_uri": "https://localhost:8080/"
        }
      },
      "execution_count": 60,
      "outputs": [
        {
          "output_type": "execute_result",
          "data": {
            "text/plain": [
              "9"
            ]
          },
          "metadata": {},
          "execution_count": 60
        }
      ]
    },
    {
      "cell_type": "markdown",
      "source": [
        "We can use rectangular brackets to access the different elements of the array."
      ],
      "metadata": {
        "id": "rI-33qqiO-Bs"
      }
    },
    {
      "cell_type": "code",
      "source": [
        "A[1,2]"
      ],
      "metadata": {
        "id": "1ASqvqdHO2v8",
        "outputId": "d2cd7229-0cee-4728-ea34-1ae8bea10554",
        "colab": {
          "base_uri": "https://localhost:8080/"
        }
      },
      "execution_count": 62,
      "outputs": [
        {
          "output_type": "execute_result",
          "data": {
            "text/plain": [
              "23"
            ]
          },
          "metadata": {},
          "execution_count": 62
        }
      ]
    },
    {
      "cell_type": "markdown",
      "source": [
        "*Slicing*"
      ],
      "metadata": {
        "id": "qs7ee0lbPWu0"
      }
    },
    {
      "cell_type": "code",
      "source": [
        "A[0,0:2]"
      ],
      "metadata": {
        "id": "zEA6eR3TPPXd",
        "outputId": "e159194f-9eca-497f-9bd6-598196fcdb34",
        "colab": {
          "base_uri": "https://localhost:8080/"
        }
      },
      "execution_count": 63,
      "outputs": [
        {
          "output_type": "execute_result",
          "data": {
            "text/plain": [
              "array([11, 12])"
            ]
          },
          "metadata": {},
          "execution_count": 63
        }
      ]
    },
    {
      "cell_type": "code",
      "source": [
        "A[0:2, 2]"
      ],
      "metadata": {
        "id": "3cS7rfzYPaU1",
        "outputId": "50caf58e-2e5b-4dd6-84a3-07cdcaa48ef2",
        "colab": {
          "base_uri": "https://localhost:8080/"
        }
      },
      "execution_count": 64,
      "outputs": [
        {
          "output_type": "execute_result",
          "data": {
            "text/plain": [
              "array([13, 23])"
            ]
          },
          "metadata": {},
          "execution_count": 64
        }
      ]
    },
    {
      "cell_type": "code",
      "source": [
        "X=np.array([[1,0],[0,1]])\n",
        "\n",
        "Y=np.array([[2,1],[1,2]])\n",
        "\n",
        "Z=X+Y\n",
        "\n",
        "Z"
      ],
      "metadata": {
        "id": "jFSVmtUJPj1i",
        "outputId": "c8cc8ef1-be70-4038-9487-6c7352b9dab7",
        "colab": {
          "base_uri": "https://localhost:8080/"
        }
      },
      "execution_count": 72,
      "outputs": [
        {
          "output_type": "execute_result",
          "data": {
            "text/plain": [
              "array([[3, 1],\n",
              "       [1, 3]])"
            ]
          },
          "metadata": {},
          "execution_count": 72
        }
      ]
    },
    {
      "cell_type": "code",
      "source": [
        "Y=np.array([[2,1],[1,2]])\n",
        "\n",
        "Z=2*Y\n",
        "\n",
        "Z"
      ],
      "metadata": {
        "id": "Sfx5YIiKPyM1",
        "outputId": "a08a84d5-45dc-4a00-b368-fb5f21509f0b",
        "colab": {
          "base_uri": "https://localhost:8080/"
        }
      },
      "execution_count": 73,
      "outputs": [
        {
          "output_type": "execute_result",
          "data": {
            "text/plain": [
              "array([[4, 2],\n",
              "       [2, 4]])"
            ]
          },
          "metadata": {},
          "execution_count": 73
        }
      ]
    },
    {
      "cell_type": "code",
      "source": [
        "#HADAMARD PRODUCT\n",
        "\n",
        "X=np.array([[1,0],[0,1]])\n",
        "\n",
        "Y=np.array([[2,1],[1,2]])\n",
        "\n",
        "Z=X*Y\n",
        "\n",
        "Z"
      ],
      "metadata": {
        "id": "fIaIUpXKQRf-",
        "outputId": "3be4d16b-5826-41b9-b4a6-1708eb97e5b3",
        "colab": {
          "base_uri": "https://localhost:8080/"
        }
      },
      "execution_count": 74,
      "outputs": [
        {
          "output_type": "execute_result",
          "data": {
            "text/plain": [
              "array([[2, 0],\n",
              "       [0, 2]])"
            ]
          },
          "metadata": {},
          "execution_count": 74
        }
      ]
    },
    {
      "cell_type": "code",
      "source": [
        "#MATRIX MULTIPLICATION\n",
        "\n",
        "a=np.array([[1,2,3],[0,1,1],[1,0,1]])\n",
        "\n",
        "b=np.array([[1,1],[1,1],[-1,1]])\n",
        "\n",
        "c = np.dot(a,b)\n",
        "\n",
        "c"
      ],
      "metadata": {
        "id": "0YWarO5vQfJs",
        "outputId": "da203432-5f9e-4d9b-e6d3-f88eecf4c7a0",
        "colab": {
          "base_uri": "https://localhost:8080/"
        }
      },
      "execution_count": 81,
      "outputs": [
        {
          "output_type": "execute_result",
          "data": {
            "text/plain": [
              "array([[0, 6],\n",
              "       [0, 2],\n",
              "       [0, 2]])"
            ]
          },
          "metadata": {},
          "execution_count": 81
        }
      ]
    },
    {
      "cell_type": "markdown",
      "source": [
        "**SIMPLE APIs**\n",
        "\n",
        "Application Program Interfaces: API\n",
        "\n",
        "\n",
        "An API lets two pieces of software talk to each other.\n",
        "For example you have your program, you have some data, you have other software components.\n",
        "You use the API to communicate with the API via inputs and outputs.\n",
        "Just like a function, you don’t have to know how the API works, but just its inputs\n",
        "and outputs."
      ],
      "metadata": {
        "id": "znX9ZbzuRY3M"
      }
    },
    {
      "cell_type": "markdown",
      "source": [
        "REST APIs are another popular type of API; they allow you to communicate through the\n",
        "internet allowing you to take advantage of resources like storage, access more data,\n",
        "artificial intelligent algorithms, and much more. The RE stands for Representational, the S stands for State, the T stand for Transfer."
      ],
      "metadata": {
        "id": "4FVSSVbdR-LA"
      }
    },
    {
      "cell_type": "markdown",
      "source": [
        "An API key is a way to access the API. It’s a unique set of characters that the\n",
        "API uses to identify you and authorize you. Usually your first call to the API includes\n",
        "the API key. This will allow you access to the API."
      ],
      "metadata": {
        "id": "eGVte-XdTeXL"
      }
    },
    {
      "cell_type": "markdown",
      "source": [
        "\n",
        "\n",
        "```\n",
        "# from ibm_watson import SpeechToTextV1\n",
        "\n",
        "url_st2=\"https://stream.watsonplatform.net/speech-to-text/api\"\n",
        "\n",
        "iam_apikey_s2t=\"EOeiZxxxDxV2xxxxxxxxxxxxxxxxxjYen9SKARKW-\"\n",
        "\n",
        "s2t=SpeechToTextV1(iam_apikey=iam_apikey_s2t, url=url_s2t)\n",
        "\n",
        "filename=\"hello_this_is_python.wav\"\n",
        "\n",
        "with open(filename, mode=\"rb\") as wav:\n",
        "  response = s2t.recognize(audio=wav, content_type='audio/wav')\n",
        "\n",
        "\n",
        "response.result\n",
        "```\n",
        "\n"
      ],
      "metadata": {
        "id": "Raq1EElZUUdC"
      }
    }
  ]
}