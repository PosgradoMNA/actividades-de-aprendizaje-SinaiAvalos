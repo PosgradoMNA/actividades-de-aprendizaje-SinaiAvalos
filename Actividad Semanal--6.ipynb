{
  "nbformat": 4,
  "nbformat_minor": 0,
  "metadata": {
    "kernelspec": {
      "display_name": "Python 3",
      "language": "python",
      "name": "python3"
    },
    "language_info": {
      "codemirror_mode": {
        "name": "ipython",
        "version": 3
      },
      "file_extension": ".py",
      "mimetype": "text/x-python",
      "name": "python",
      "nbconvert_exporter": "python",
      "pygments_lexer": "ipython3",
      "version": "3.7.7"
    },
    "colab": {
      "provenance": [],
      "collapsed_sections": [],
      "include_colab_link": true
    }
  },
  "cells": [
    {
      "cell_type": "markdown",
      "metadata": {
        "id": "view-in-github",
        "colab_type": "text"
      },
      "source": [
        "<a href=\"https://colab.research.google.com/github/PosgradoMNA/actividades-de-aprendizaje-SinaiAvalos/blob/main/Actividad%20Semanal--6.ipynb\" target=\"_parent\"><img src=\"https://colab.research.google.com/assets/colab-badge.svg\" alt=\"Open In Colab\"/></a>"
      ]
    },
    {
      "cell_type": "markdown",
      "source": [
        "*Sinaí Avalos Rivera A01730466*"
      ],
      "metadata": {
        "id": "uG4n4eWqJtEv"
      }
    },
    {
      "cell_type": "markdown",
      "source": [
        "# **Actividad Semanal -- 6, visualización**\n",
        "\n",
        "\n"
      ],
      "metadata": {
        "id": "cOvDgMDA3O2I"
      }
    },
    {
      "cell_type": "code",
      "source": [],
      "metadata": {
        "id": "PWQa68_p3Tyf"
      },
      "execution_count": null,
      "outputs": []
    }
  ]
}