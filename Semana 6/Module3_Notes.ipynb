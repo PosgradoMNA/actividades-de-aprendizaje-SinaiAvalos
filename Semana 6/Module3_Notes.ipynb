{
  "nbformat": 4,
  "nbformat_minor": 0,
  "metadata": {
    "colab": {
      "provenance": [],
      "collapsed_sections": [],
      "authorship_tag": "ABX9TyNubJqyPM0UM/6AVc0PxO7q",
      "include_colab_link": true
    },
    "kernelspec": {
      "name": "python3",
      "display_name": "Python 3"
    },
    "language_info": {
      "name": "python"
    }
  },
  "cells": [
    {
      "cell_type": "markdown",
      "metadata": {
        "id": "view-in-github",
        "colab_type": "text"
      },
      "source": [
        "<a href=\"https://colab.research.google.com/github/PosgradoMNA/actividades-de-aprendizaje-SinaiAvalos/blob/main/Semana%206/Module3_Notes.ipynb\" target=\"_parent\"><img src=\"https://colab.research.google.com/assets/colab-badge.svg\" alt=\"Open In Colab\"/></a>"
      ]
    },
    {
      "cell_type": "markdown",
      "source": [
        "*Sinaí Avalos Rivera A01730466*\n",
        "\n",
        "# **MODULE 3 - EXPLORATORY DATA ANALYSIS**\n",
        "\n",
        "\n",
        "**DESCRIPTIVE STATISTICS**\n",
        "\n",
        "\n",
        "Descriptive statistical analysis helps to\n",
        "describe basic features of a dataset and obtains a short summary about the sample and measures of the data. \n",
        "\n",
        "* Summarize statistics using describe() method, computes basic statistics for all numerical variables (mean, total number of data points, standard deviation, quartiles and extreme values, NaN valueas are skipped)\n",
        "\n",
        "\n",
        "```\n",
        "# df.describe()\n",
        "```\n",
        "\n",
        "* For categorical variables, can be divided up into different categories, for summarizing them is used:\n",
        "\n",
        "\n",
        "```\n",
        "# drive_wheels_counts=df[\"drive-wheels\"].value_counts()\n",
        "\n",
        "drive_wheels_counts.rename(columns=('drive-wheels':'value_counts' inplace=True)\n",
        "\n",
        "drive_wheels_counts.indez.name = 'drive-wheels'\n",
        "```\n",
        "\n",
        "\n",
        "* Boxplots  are a great way to visualize numeric data, since you can visualize the various distributions of the data. The main features that the boxplot shows are the median of the data, which represents where\n",
        "the middle datapoint is. The Upper Quartile shows where the 75th percentile\n",
        "is, the Lower Quartile shows where the 25th percentile is. The data between the Upper\n",
        "and Lower Quartile represents the Interquartile Range.\n",
        "Next, you have the Lower and Upper Extremes. These are calculated as 1.5 times the interquartile\n",
        "range above the 75th percentile, and as 1.5 times the IQR below the 25th percentile.\n",
        "\n",
        "* Each observation in a scatter plot is represented\n",
        "as a point. This plot shows the relationship between two variables: The predictor variable: is the variable that you are using to predict an outcome. The target variable: is the variable that you are trying to predict. In this case, our target variable is the price, since this would be the outcome. In a scatterplot, we typically set the predictor variable on the x-axis, or horizontal axis\n",
        "and we set the target variable on the y-axis or vertical axis:\n",
        "\n",
        "\n",
        "```\n",
        "# y = df[\"engine-size\"]\n",
        "x = df[\"price\"]\n",
        "plt.scatter(x,y)\n",
        "\n",
        "#Labeling axes:\n",
        "\n",
        "plt.title(\"Scatterplot of ...\")\n",
        "plt.xlabel(\"Engine Size\")\n",
        "plt.ylabel(\"Price\")\n",
        "```\n",
        "\n",
        "\n",
        "\n",
        "\n"
      ],
      "metadata": {
        "id": "VPWg7aRHuQoX"
      }
    },
    {
      "cell_type": "markdown",
      "source": [
        "**GroupBy IN PYTHON**\n",
        "\n",
        "\n",
        "*datframe.Groupby() method: The group by method is used on categorical variables, groups the data into subsets according to the different categories of that variable. You can group by a single variable or you can group by multiple variables by passing\n",
        "in multiple variable names.\n",
        "\n",
        "```\n",
        "# df_test= df[['drive-wheels', 'body-style', 'price']]\n",
        "df_grp = df_test_groupby(['drive-wheels', 'body-style´], as_index=False).mean()\n",
        "\n",
        "df_grp\n",
        "```\n",
        "\n",
        "To transform this table to a pivot table use the pivot method. A pivot table has one variable displayed along the columns and the other variable displayed\n",
        "along the rows.\n",
        "\n",
        "\n",
        "\n",
        "```\n",
        "# df_pivot = df.grp.pivot(index=´drive-wheels', columns='body-style')\n",
        "```\n",
        "\n",
        "*Another way to represent the pivot table is using a heatmap plot.\n",
        "Heatmap takes a rectangular grid of data and assigns a color intensity based on the\n",
        "data value at the grid points.\n",
        "\n",
        "\n",
        "\n",
        "\n",
        "```\n",
        "# plt.pcolor(df_pivot, cmap='RdBu')\n",
        "plt.colorbar()\n",
        "plt.show()\n",
        "```\n",
        "\n",
        "\n",
        "\n",
        "\n"
      ],
      "metadata": {
        "id": "dwVED1661zIO"
      }
    },
    {
      "cell_type": "markdown",
      "source": [
        "**ANALYSIS OF VARIANCE ANOVA**\n",
        "\n",
        "ANOVA = ANALYSIS OF VARIANCE, use to find the correlation between different groups of a categorical variable. Use it if there is any difference in mean.\n",
        "\n",
        "The ANOVA test returns two values: the F-test score and the p-value.\n",
        "The F-test calculates the ratio of variation between the groups's mean over the variation\n",
        "within each of the sample groups.\n",
        "The p-value shows whether the obtained result is statistically significant.\n",
        "\n",
        "All in all, we can say that there is a strong correlation between a categorical variable\n",
        "and other variables, if the ANOVA test gives us a large F-test value and a small p-value.\n",
        "\n",
        "\n"
      ],
      "metadata": {
        "id": "U1nulerk_5Kt"
      }
    },
    {
      "cell_type": "markdown",
      "source": [
        "\n",
        "```\n",
        "# Esto tiene formato de código\n",
        "```"
      ],
      "metadata": {
        "id": "6fEphfjuykpH"
      }
    },
    {
      "cell_type": "code",
      "execution_count": null,
      "metadata": {
        "id": "D0WfdMInuNPL"
      },
      "outputs": [],
      "source": []
    }
  ]
}